{
  "nbformat": 4,
  "nbformat_minor": 0,
  "metadata": {
    "colab": {
      "provenance": [],
      "authorship_tag": "ABX9TyMrjo79o+1GViFxiu/OmP4n",
      "include_colab_link": true
    },
    "kernelspec": {
      "name": "python3",
      "display_name": "Python 3"
    },
    "language_info": {
      "name": "python"
    }
  },
  "cells": [
    {
      "cell_type": "markdown",
      "metadata": {
        "id": "view-in-github",
        "colab_type": "text"
      },
      "source": [
        "<a href=\"https://colab.research.google.com/github/RyanChen12035/w281_final_galaxy_zoo/blob/main/pipeline_123_classifier_LDA_SVM.ipynb\" target=\"_parent\"><img src=\"https://colab.research.google.com/assets/colab-badge.svg\" alt=\"Open In Colab\"/></a>"
      ]
    },
    {
      "cell_type": "code",
      "execution_count": null,
      "metadata": {
        "id": "XFmXi1Tp178m"
      },
      "outputs": [],
      "source": [
        "\"\"\"\n",
        "Adopt reduced data set (2000 examples, 500 for each category),\n",
        "Get features from pipeline1, 2, 3 and pass it LDA and SVN. Do the grid search.\n",
        "- pipeline1 (Canny + SIFT):\n",
        "    preprocess: grayscale, histogram_clipping, gaussian_blur_preprocessing, bilateral_preprocessing, sobel_preprocessing, canny_filter, center_crop\n",
        "    feature extractor: sift_bag_of_visual_words\n",
        "    feature reduction: PCA, from 200 down to 80 features, normalized feature-wise by dividing maximum\n",
        "    classifier LDA + linear regression: train_accuracy: 0.63 , val_accuracy: 0.45\n",
        "    classifier SVM (non-linae, 'rbf'): train_accuracy: 0.71 , val_accuracy: 0.51\n",
        "- pipeline2 (HOG):\n",
        "    preprocess: grayscale, histogram_clipping, gaussian_blur_preprocessing, bilateral_preprocessing, center_crop\n",
        "    feature extractor: hog feature\n",
        "    feature reduction: PCA, from 63504 down to 200 features, z score normalization needed.\n",
        "    classifier LDA + linear regression: train_accuracy: 0.8 , val_accuracy: 0.65 (L2 regularization)\n",
        "    classifier SVM (non-linae, 'rbf'): train_accuracy: 0.95, val_accuracy: 0.64\n",
        "- pipeline3 (Resnet50):\n",
        "    preprocess: N/A\n",
        "    feature extractor: body of resnet50 (detach classifer head)\n",
        "    feature reduction: PCA, from 2048 down to 100 features, no normalization needed.\n",
        "    classifier LDA + linear regression: train_accuracy: 0.28 , val_accuracy: 0.05 (L1 regularization)\n",
        "    classifier SVM (non-linae, 'rbf'): train_accuracy: 0.89 , val_accuracy: 0.41\n",
        "\n",
        "\n",
        "\n",
        "\n",
        "\n",
        "\"\"\""
      ]
    }
  ]
}