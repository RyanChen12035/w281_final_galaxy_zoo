{
  "nbformat": 4,
  "nbformat_minor": 0,
  "metadata": {
    "colab": {
      "provenance": [],
      "gpuType": "T4",
      "include_colab_link": true
    },
    "kernelspec": {
      "name": "python3",
      "display_name": "Python 3"
    },
    "language_info": {
      "name": "python"
    },
    "accelerator": "GPU"
  },
  "cells": [
    {
      "cell_type": "markdown",
      "metadata": {
        "id": "view-in-github",
        "colab_type": "text"
      },
      "source": [
        "<a href=\"https://colab.research.google.com/github/RyanChen12035/w281_final_galaxy_zoo/blob/main/pipeline_123_classifier_LDA_SVM_databalance_dataset2.ipynb\" target=\"_parent\"><img src=\"https://colab.research.google.com/assets/colab-badge.svg\" alt=\"Open In Colab\"/></a>"
      ]
    },
    {
      "cell_type": "code",
      "execution_count": null,
      "metadata": {
        "id": "XFmXi1Tp178m"
      },
      "outputs": [],
      "source": [
        "\"\"\"\n",
        "Based on the confusion matrix, try to augment some of the categories by increasing the number of the example in the category.\n",
        "LDA + regression has a hard time telling\n",
        "  - 0 from 3,4\n",
        "  - 1 from 2\n",
        "  - 3 from 0\n",
        "  - 4 from 1,2\n",
        "\n",
        "SVM has a hard time telling\n",
        "  - 0 from 3\n",
        "  - 1 from 2\n",
        "  - 3 from 0\n",
        "  - 4 from 1,2\n",
        "\n",
        "where we have 500 examples for each class\n",
        "0,1,2,3,4 represent Cigar-shaped smooth, completely round smooth, edge-on, In between smooth, spiral\n",
        "\n",
        "since we only have 579 examples in class 0, take\n",
        "class 0: 579\n",
        "class 1: 1000\n",
        "class 2: 1000\n",
        "class 3: 600\n",
        "class 4: 1000\n",
        "as data set 2\n",
        "expecting the model can learn more from class 1,2,4 and improve the recall/precision of these classes but keep the performance of class 0 and class 3\n",
        "\n",
        "further increase the number of examples for each class\n",
        "data set 3\n",
        "class 0: 579\n",
        "class 1: 1500\n",
        "class 2: 1500\n",
        "class 3: 1000\n",
        "class 4: 1500\n",
        "\n",
        "data set 4\n",
        "use all examples we have\n",
        "Cigar-Shaped Smooth: 579\n",
        "In-between Smooth: 8069\n",
        "Complete Round Smooth: 8436\n",
        "Edge-on: 3903\n",
        "Spiral: 7806\n",
        "\n",
        "\"\"\"\n",
        "\n",
        "from google.colab import drive\n",
        "\n",
        "# mount Google Drive\n",
        "drive.mount('/content/drive')"
      ]
    },
    {
      "cell_type": "code",
      "source": [
        "# copy the filters from ex7\n",
        "import numpy as np\n",
        "import pandas as pd\n",
        "import matplotlib.pyplot as plt\n",
        "import cv2\n",
        "import os\n",
        "import math\n",
        "from mpl_toolkits.axes_grid1 import make_axes_locatable\n",
        "from PIL import Image\n",
        "import urllib\n",
        "from skimage import feature, io, color\n",
        "from scipy.cluster.vq import kmeans\n",
        "np.random.seed(62)\n",
        "from scipy.cluster.vq import vq"
      ],
      "metadata": {
        "id": "7RQTcPXD8Uiy"
      },
      "execution_count": 2,
      "outputs": []
    },
    {
      "cell_type": "code",
      "source": [
        "# training data\n",
        "import pandas as pd\n",
        "csv_file_path = '/content/drive/MyDrive/galaxy_zoo/train_data_2.csv'\n",
        "column_names = ['path', 'index', 'label']\n",
        "df_train = pd.read_csv(csv_file_path, names=column_names)\n",
        "df_train = df_train.iloc[1:]\n",
        "df_train = df_train.reset_index(drop=True)\n",
        "print(df_train.shape)\n",
        "# val data\n",
        "import pandas as pd\n",
        "csv_file_path = '/content/drive/MyDrive/galaxy_zoo/val_data_2.csv'\n",
        "column_names = ['path', 'index', 'label']\n",
        "df_val = pd.read_csv(csv_file_path, names=column_names)\n",
        "df_val = df_val.iloc[1:]\n",
        "df_val = df_val.reset_index(drop=True)\n",
        "print(df_val.shape)"
      ],
      "metadata": {
        "colab": {
          "base_uri": "https://localhost:8080/"
        },
        "id": "9TLnQAxM8b9o",
        "outputId": "8d24f73b-3199-4542-bacb-68a3ef22e7fb"
      },
      "execution_count": 3,
      "outputs": [
        {
          "output_type": "stream",
          "name": "stdout",
          "text": [
            "(3343, 3)\n",
            "(418, 3)\n"
          ]
        }
      ]
    },
    {
      "cell_type": "code",
      "source": [
        "# preprocess and pipeline\n",
        "from tqdm import tqdm\n",
        "\n",
        "\n",
        "def grayscale_preprocessing(img):\n",
        "\tif np.max(img) > 1:\n",
        "\t\timg = img.astype(np.float32) / 255.0\n",
        "\tim_gray = np.mean(img, axis=2)\n",
        "\treturn im_gray\n",
        "\n",
        "\n",
        "def bilateral_preprocessing(img, ksize, sigmX, sigmY):\n",
        "\tbilateral_filtered_image = cv2.bilateralFilter(img, ksize, sigmX, sigmY)\n",
        "\treturn bilateral_filtered_image\n",
        "\n",
        "\n",
        "def high_pass_preprocessing(img, ksize, sig):\n",
        "\tlow_pass = cv2.GaussianBlur(img, ksize, 0)\n",
        "\thigh_pass = img - low_pass\n",
        "\treturn high_pass\n",
        "\n",
        "\n",
        "def build_codebook(\n",
        "\tpreprocessed_features,\n",
        "\tsample_size=1050,\n",
        "\tk=200,\n",
        "\titers=1,\n",
        "\tsave_location=\"codebook.npy\",\n",
        "):\n",
        "\t\"\"\"\n",
        "\tUse k-means clustering to build a codebook of visual words, given a set of SIFT descriptors.\n",
        "\tArgs:\n",
        "\t\t\t\t\tsample_size: number of SIFT descriptors to sample from the training set\n",
        "\t\"\"\"\n",
        "\tdescriptors_sample = list()\n",
        "\tdescriptor_sample = list()\n",
        "\tsample_idx = np.random.randint(0, len(df_train) + 1, sample_size).tolist()\n",
        "\tfor i in sample_idx:\n",
        "\t\tif (\n",
        "\t\t\tpreprocessed_features[i] is not None\n",
        "\t\t\tand len(preprocessed_features[i].shape) == 2\n",
        "\t\t):\n",
        "\t\t\tdescriptors_sample.append(preprocessed_features[i])\n",
        "\tdescriptor_sample = np.vstack(descriptors_sample)\n",
        "\tcodebook, variance = kmeans(descriptor_sample, k, iters)\n",
        "\tnp.save(save_location, codebook)\n",
        "\treturn codebook\n",
        "\n",
        "\n",
        "def quantize_and_create_sparse_representation(preprocessed_features, codebook):\n",
        "\tvisual_words = []\n",
        "\tfrequency_vectors = []\n",
        "\t# for each image descriptor, take every idx and\n",
        "\tfor img_descriptors in preprocessed_features:\n",
        "\t\tif img_descriptors is None:\n",
        "\t\t\tvisual_words.append(np.zeros(200))\n",
        "\t\t\tcontinue\n",
        "\t\timg_visual_words, distance = vq(img_descriptors, codebook)\n",
        "\t\tvisual_words.append(img_visual_words)\n",
        "\tfor img_visual_words in visual_words:\n",
        "\t\t# create a frequency vector for each image\n",
        "\t\timg_frequency_vector = np.zeros(200)\n",
        "\t\tfor word in img_visual_words:\n",
        "\t\t\timg_frequency_vector[int(word)] += 1\n",
        "\t\tfrequency_vectors.append(img_frequency_vector)\n",
        "\tfrequency_vectors = np.stack(frequency_vectors)\n",
        "\treturn frequency_vectors\n",
        "\n",
        "\n",
        "def sift_bag_of_visual_words(img):\n",
        "\tsift = cv2.SIFT_create()\n",
        "\timage8bit = cv2.normalize(img, None, 0, 255, cv2.NORM_MINMAX).astype(\"uint8\")\n",
        "\tkeypoints, descriptors = sift.detectAndCompute(image8bit, None)\n",
        "\treturn descriptors\n",
        "\n",
        "\n",
        "def sobel_preprocessing(img, ksize):\n",
        "\tsobelx = cv2.Sobel(img, cv2.CV_32F, 1, 0, ksize=ksize)  # Find x and y gradients\n",
        "\tsobely = cv2.Sobel(img, cv2.CV_32F, 0, 1, ksize=ksize)\n",
        "\tmagnitude = np.sqrt(sobelx**2.0 + sobely**2.0)\n",
        "\tif np.max(magnitude) == 0:\n",
        "\t\treturn magnitude\n",
        "\tmagnitude = magnitude / np.max(magnitude)  # normalize\n",
        "\treturn magnitude\n",
        "\n",
        "\n",
        "def gaussian_blur_preprocessing(img, ksize, sigma):\n",
        "\tblurred_im = cv2.GaussianBlur(img, ksize, sigmaX=sigma[0], sigmaY=sigma[1])\n",
        "\treturn blurred_im\n",
        "\n",
        "\n",
        "def canny_filter(img, high_threshold, low_threshold):\n",
        "\t# ensure the image is normalized to the range [0, 1]\n",
        "\tif np.max(img) != 0:\n",
        "\t\timg = img / np.max(img)\n",
        "\t# scale the image to the range [0, 255] and convert to 8-bit\n",
        "\timg_8u = np.uint8(img * 255)\n",
        "\t# threshold the image and get the interesting points\n",
        "\t# The high threshold is used to identify the strong edges. Pixels with intensity gradients above this threshold are marked as strong edge pixels.\n",
        "\t# The low threshold is used to identify the non-edges. Pixels with intensity gradients below this threshold are suppressed.\n",
        "\t# By setting the high threshold too low, many pixels might be considered as strong edges, leading to a noisy edge image. Similarly, if the low threshold is set too high, you might miss genuine weak edges that should contribute to the final edge image.\n",
        "\n",
        "\tim_threshold = cv2.Canny(\n",
        "\t\timage=img_8u, threshold1=low_threshold, threshold2=high_threshold\n",
        "\t)  # Canny Edge\n",
        "\tif np.max(im_threshold) == 0:\n",
        "\t\treturn im_threshold\n",
        "\tim_threshold = im_threshold / np.max(im_threshold)  # normalize\n",
        "\treturn im_threshold\n",
        "\n",
        "\n",
        "def crop_center(img, cropx, cropy):\n",
        "\ty, x = img.shape\n",
        "\tstartx = x // 2 - (cropx // 2)\n",
        "\tstarty = y // 2 - (cropy // 2)\n",
        "\treturn img[starty : starty + cropy, startx : startx + cropx]\n",
        "\n",
        "\n",
        "def histogram_clipping(img, threshold_value):\n",
        "\tclipped_image = img.copy()\n",
        "\t# before\n",
        "\t# draw_histogram_gray(clipped_image)\n",
        "\tclipped_image[img < threshold_value / 255.0] = 0\n",
        "\t# Normalize the clipped_image to 0-255 for proper histogram visualization\n",
        "\tnormalized_clipped_image = cv2.normalize(\n",
        "\t\tclipped_image,\n",
        "\t\tNone,\n",
        "\t\talpha=0,\n",
        "\t\tbeta=255,\n",
        "\t\tnorm_type=cv2.NORM_MINMAX,\n",
        "\t\tdtype=cv2.CV_8UC1,\n",
        "\t)\n",
        "\t# draw_histogram_gray(clipped_image)\n",
        "\treturn normalized_clipped_image\n",
        "\n",
        "\n",
        "def hog(img_gray, orientations=9, pixels_per_cell=(8, 8), cells_per_block=(3, 3)):\n",
        "\tblock_norm = \"L1\"  # Block normalization method\n",
        "\t# orientations = 9   # Number of orientation bins\n",
        "\t# pixels_per_cell = (8, 8)  # Size of the cell\n",
        "\t# cells_per_block = (3, 3)  # Size of the block\n",
        "\n",
        "\t# Compute the HOG features\n",
        "\thog_features, hog_image = feature.hog(\n",
        "\t\timg_gray,\n",
        "\t\torientations=orientations,\n",
        "\t\tpixels_per_cell=pixels_per_cell,\n",
        "\t\tcells_per_block=cells_per_block,\n",
        "\t\tblock_norm=block_norm,\n",
        "\t\tvisualize=True,\n",
        "\t)\n",
        "\treturn hog_features, hog_image\n",
        "\n",
        "\n",
        "def preprocess_1(df, codebook=None):\n",
        "\timage_dir = df[\"path\"]  # ignore index\n",
        "\tpreprocessed_list = []\n",
        "\tfor i, image_path in enumerate(tqdm(image_dir)):\n",
        "\t\tim = np.array(Image.open(image_path))\n",
        "\t\tim = grayscale_preprocessing(im)\n",
        "\t\tim= histogram_clipping(im, 30)\n",
        "\t\tim = gaussian_blur_preprocessing(\n",
        "\t\t\tim, (9, 9), (10, 10)\n",
        "\t\t)\n",
        "\t\tim = bilateral_preprocessing(im, 5, 30, 30)\n",
        "\t\tim = sobel_preprocessing(im, 31)\n",
        "\t\tim = canny_filter(im, 70, 0)\n",
        "\t\tim = crop_center(im, 252, 252)\n",
        "\t\tsift = sift_bag_of_visual_words(im)\n",
        "\t\tpreprocessed_list.append(sift)\n",
        "\tif codebook is None:\n",
        "\t\tcodebook = build_codebook(preprocessed_list)\n",
        "\tfrequency_vectors = quantize_and_create_sparse_representation(\n",
        "\t\tpreprocessed_list, codebook\n",
        "\t)\n",
        "\t#max = np.max(frequency_vectors, axis=1)\n",
        "\t#vector_representations_normalized = frequency_vectors / max[:, np.newaxis]\n",
        "\t# im_flattened = im_cropped.flatten(\n",
        "\treturn frequency_vectors\n",
        "\n",
        "\n",
        "def preprocess_2(df):\n",
        "  image_dir = df['path']\n",
        "  preprocessed_list = []\n",
        "\n",
        "  for i, image_path in enumerate(tqdm(image_dir)):\n",
        "    im = np.array(Image.open(image_path))\n",
        "\n",
        "    im = grayscale_preprocessing(im)\n",
        "    im = histogram_clipping(im, 30)\n",
        "    im = gaussian_blur_preprocessing(im, (9, 9), (10, 10))\n",
        "    im = bilateral_preprocessing(im, 5, 30, 30)\n",
        "    im = crop_center(im, 240, 240)\n",
        "    hog_feature, hog_image = hog(im) #(63504,)\n",
        "    # im_flattened = hog_feature.flatten()\n",
        "    preprocessed_list.append(hog_feature)\n",
        "\n",
        "  df_preprocessed = pd.DataFrame(preprocessed_list)\n",
        "  return df_preprocessed\n",
        "\n",
        "\n",
        "def preprocess_resnet_nopreprocess(df):\n",
        "  image_dir = df['path']\n",
        "  preprocessed_list = []\n",
        "\n",
        "  for i, image_path in enumerate(image_dir):\n",
        "    im = np.array(Image.open(image_path))\n",
        "    preprocessed_list.append(im)\n",
        "  return preprocessed_list"
      ],
      "metadata": {
        "id": "Za9tlbJX8qNt"
      },
      "execution_count": 10,
      "outputs": []
    },
    {
      "cell_type": "code",
      "source": [
        "from sklearn.decomposition import PCA\n",
        "\n",
        "\n",
        "def pick_top_feature_pca(feature_matrix, top_components, n_components):\n",
        "\t\t# pick up top 100 features by PCA\n",
        "\t\tpca = PCA(n_components=n_components)\n",
        "\t\tpca.fit(feature_matrix)\n",
        "\t\tprincipal_components = pca.transform(feature_matrix)\n",
        "\t\ttop_components_matrix = principal_components[:, :top_components]\n",
        "\n",
        "\t\tplt.figure(figsize=(8, 4))\n",
        "\t\tplt.plot(np.cumsum(pca.explained_variance_ratio_))\n",
        "\t\tplt.xlabel(\"Number of PCA components\")\n",
        "\t\tplt.ylabel(\"Cumulative explained variance\")\n",
        "\t\tplt.title(\"Explained Variance vs Number of PCA Components\")\n",
        "\t\tplt.grid(True)\n",
        "\t\tplt.show()\n",
        "\t\t# Extract the top n components\n",
        "\t\treturn top_components_matrix, pca\n",
        "\n",
        "# use the pca embedding from train and process the val and test\n",
        "def pick_top_feature_pca_val_test(pca_train, feature_matrix, top_components: int):\n",
        "  principal_components = pca_train.transform(feature_matrix)\n",
        "  top_components_matrix = principal_components[:, :top_components]\n",
        "  return top_components_matrix"
      ],
      "metadata": {
        "id": "cEa2rRdK--C8"
      },
      "execution_count": 11,
      "outputs": []
    },
    {
      "cell_type": "markdown",
      "source": [
        "Resnet50"
      ],
      "metadata": {
        "id": "mR9Me8qN9DeY"
      }
    },
    {
      "cell_type": "code",
      "source": [
        "images_list_nopreprocess = preprocess_resnet_nopreprocess(df_train)\n",
        "print(len(images_list_nopreprocess))"
      ],
      "metadata": {
        "id": "DqGHUboQ9CAt",
        "colab": {
          "base_uri": "https://localhost:8080/"
        },
        "outputId": "0cc79aef-c2ed-432c-f99f-8691e18d0a64"
      },
      "execution_count": 35,
      "outputs": [
        {
          "output_type": "stream",
          "name": "stdout",
          "text": [
            "3343\n"
          ]
        }
      ]
    },
    {
      "cell_type": "code",
      "source": [
        "images_list_nopreprocess_val = preprocess_resnet_nopreprocess(df_val)\n",
        "print(len(images_list_nopreprocess_val))"
      ],
      "metadata": {
        "id": "f8TT7Pga-Car",
        "colab": {
          "base_uri": "https://localhost:8080/"
        },
        "outputId": "f1184a58-3e2c-46aa-f4d3-4bcf16ee8cff"
      },
      "execution_count": 36,
      "outputs": [
        {
          "output_type": "stream",
          "name": "stdout",
          "text": [
            "418\n"
          ]
        }
      ]
    },
    {
      "cell_type": "code",
      "source": [
        "import torch\n",
        "import torchvision.models as models\n",
        "\n",
        "# load pre-trained ResNet model\n",
        "resnet = models.resnet50(pretrained=True)\n",
        "\n",
        "# remove the classifier on top of resnet\n",
        "resnet = torch.nn.Sequential(*(list(resnet.children())[:-1]))\n",
        "# freeze the parameters of the feature extractor\n",
        "for param in resnet.parameters():\n",
        "    param.requires_grad = False\n",
        "# Print the modified ResNet architecture\n",
        "\n",
        "# print(resnet)\n",
        "\n",
        "# move the model to GPU\n",
        "device = torch.device(\"cuda\" if torch.cuda.is_available() else \"cpu\")\n",
        "resnet.to(device)"
      ],
      "metadata": {
        "colab": {
          "base_uri": "https://localhost:8080/"
        },
        "id": "pxW9yen59HAq",
        "outputId": "bf8e2a30-3568-47b8-a558-4991b760c6bf"
      },
      "execution_count": 29,
      "outputs": [
        {
          "output_type": "stream",
          "name": "stderr",
          "text": [
            "/usr/local/lib/python3.10/dist-packages/torchvision/models/_utils.py:208: UserWarning: The parameter 'pretrained' is deprecated since 0.13 and may be removed in the future, please use 'weights' instead.\n",
            "  warnings.warn(\n",
            "/usr/local/lib/python3.10/dist-packages/torchvision/models/_utils.py:223: UserWarning: Arguments other than a weight enum or `None` for 'weights' are deprecated since 0.13 and may be removed in the future. The current behavior is equivalent to passing `weights=ResNet50_Weights.IMAGENET1K_V1`. You can also use `weights=ResNet50_Weights.DEFAULT` to get the most up-to-date weights.\n",
            "  warnings.warn(msg)\n"
          ]
        },
        {
          "output_type": "execute_result",
          "data": {
            "text/plain": [
              "Sequential(\n",
              "  (0): Conv2d(3, 64, kernel_size=(7, 7), stride=(2, 2), padding=(3, 3), bias=False)\n",
              "  (1): BatchNorm2d(64, eps=1e-05, momentum=0.1, affine=True, track_running_stats=True)\n",
              "  (2): ReLU(inplace=True)\n",
              "  (3): MaxPool2d(kernel_size=3, stride=2, padding=1, dilation=1, ceil_mode=False)\n",
              "  (4): Sequential(\n",
              "    (0): Bottleneck(\n",
              "      (conv1): Conv2d(64, 64, kernel_size=(1, 1), stride=(1, 1), bias=False)\n",
              "      (bn1): BatchNorm2d(64, eps=1e-05, momentum=0.1, affine=True, track_running_stats=True)\n",
              "      (conv2): Conv2d(64, 64, kernel_size=(3, 3), stride=(1, 1), padding=(1, 1), bias=False)\n",
              "      (bn2): BatchNorm2d(64, eps=1e-05, momentum=0.1, affine=True, track_running_stats=True)\n",
              "      (conv3): Conv2d(64, 256, kernel_size=(1, 1), stride=(1, 1), bias=False)\n",
              "      (bn3): BatchNorm2d(256, eps=1e-05, momentum=0.1, affine=True, track_running_stats=True)\n",
              "      (relu): ReLU(inplace=True)\n",
              "      (downsample): Sequential(\n",
              "        (0): Conv2d(64, 256, kernel_size=(1, 1), stride=(1, 1), bias=False)\n",
              "        (1): BatchNorm2d(256, eps=1e-05, momentum=0.1, affine=True, track_running_stats=True)\n",
              "      )\n",
              "    )\n",
              "    (1): Bottleneck(\n",
              "      (conv1): Conv2d(256, 64, kernel_size=(1, 1), stride=(1, 1), bias=False)\n",
              "      (bn1): BatchNorm2d(64, eps=1e-05, momentum=0.1, affine=True, track_running_stats=True)\n",
              "      (conv2): Conv2d(64, 64, kernel_size=(3, 3), stride=(1, 1), padding=(1, 1), bias=False)\n",
              "      (bn2): BatchNorm2d(64, eps=1e-05, momentum=0.1, affine=True, track_running_stats=True)\n",
              "      (conv3): Conv2d(64, 256, kernel_size=(1, 1), stride=(1, 1), bias=False)\n",
              "      (bn3): BatchNorm2d(256, eps=1e-05, momentum=0.1, affine=True, track_running_stats=True)\n",
              "      (relu): ReLU(inplace=True)\n",
              "    )\n",
              "    (2): Bottleneck(\n",
              "      (conv1): Conv2d(256, 64, kernel_size=(1, 1), stride=(1, 1), bias=False)\n",
              "      (bn1): BatchNorm2d(64, eps=1e-05, momentum=0.1, affine=True, track_running_stats=True)\n",
              "      (conv2): Conv2d(64, 64, kernel_size=(3, 3), stride=(1, 1), padding=(1, 1), bias=False)\n",
              "      (bn2): BatchNorm2d(64, eps=1e-05, momentum=0.1, affine=True, track_running_stats=True)\n",
              "      (conv3): Conv2d(64, 256, kernel_size=(1, 1), stride=(1, 1), bias=False)\n",
              "      (bn3): BatchNorm2d(256, eps=1e-05, momentum=0.1, affine=True, track_running_stats=True)\n",
              "      (relu): ReLU(inplace=True)\n",
              "    )\n",
              "  )\n",
              "  (5): Sequential(\n",
              "    (0): Bottleneck(\n",
              "      (conv1): Conv2d(256, 128, kernel_size=(1, 1), stride=(1, 1), bias=False)\n",
              "      (bn1): BatchNorm2d(128, eps=1e-05, momentum=0.1, affine=True, track_running_stats=True)\n",
              "      (conv2): Conv2d(128, 128, kernel_size=(3, 3), stride=(2, 2), padding=(1, 1), bias=False)\n",
              "      (bn2): BatchNorm2d(128, eps=1e-05, momentum=0.1, affine=True, track_running_stats=True)\n",
              "      (conv3): Conv2d(128, 512, kernel_size=(1, 1), stride=(1, 1), bias=False)\n",
              "      (bn3): BatchNorm2d(512, eps=1e-05, momentum=0.1, affine=True, track_running_stats=True)\n",
              "      (relu): ReLU(inplace=True)\n",
              "      (downsample): Sequential(\n",
              "        (0): Conv2d(256, 512, kernel_size=(1, 1), stride=(2, 2), bias=False)\n",
              "        (1): BatchNorm2d(512, eps=1e-05, momentum=0.1, affine=True, track_running_stats=True)\n",
              "      )\n",
              "    )\n",
              "    (1): Bottleneck(\n",
              "      (conv1): Conv2d(512, 128, kernel_size=(1, 1), stride=(1, 1), bias=False)\n",
              "      (bn1): BatchNorm2d(128, eps=1e-05, momentum=0.1, affine=True, track_running_stats=True)\n",
              "      (conv2): Conv2d(128, 128, kernel_size=(3, 3), stride=(1, 1), padding=(1, 1), bias=False)\n",
              "      (bn2): BatchNorm2d(128, eps=1e-05, momentum=0.1, affine=True, track_running_stats=True)\n",
              "      (conv3): Conv2d(128, 512, kernel_size=(1, 1), stride=(1, 1), bias=False)\n",
              "      (bn3): BatchNorm2d(512, eps=1e-05, momentum=0.1, affine=True, track_running_stats=True)\n",
              "      (relu): ReLU(inplace=True)\n",
              "    )\n",
              "    (2): Bottleneck(\n",
              "      (conv1): Conv2d(512, 128, kernel_size=(1, 1), stride=(1, 1), bias=False)\n",
              "      (bn1): BatchNorm2d(128, eps=1e-05, momentum=0.1, affine=True, track_running_stats=True)\n",
              "      (conv2): Conv2d(128, 128, kernel_size=(3, 3), stride=(1, 1), padding=(1, 1), bias=False)\n",
              "      (bn2): BatchNorm2d(128, eps=1e-05, momentum=0.1, affine=True, track_running_stats=True)\n",
              "      (conv3): Conv2d(128, 512, kernel_size=(1, 1), stride=(1, 1), bias=False)\n",
              "      (bn3): BatchNorm2d(512, eps=1e-05, momentum=0.1, affine=True, track_running_stats=True)\n",
              "      (relu): ReLU(inplace=True)\n",
              "    )\n",
              "    (3): Bottleneck(\n",
              "      (conv1): Conv2d(512, 128, kernel_size=(1, 1), stride=(1, 1), bias=False)\n",
              "      (bn1): BatchNorm2d(128, eps=1e-05, momentum=0.1, affine=True, track_running_stats=True)\n",
              "      (conv2): Conv2d(128, 128, kernel_size=(3, 3), stride=(1, 1), padding=(1, 1), bias=False)\n",
              "      (bn2): BatchNorm2d(128, eps=1e-05, momentum=0.1, affine=True, track_running_stats=True)\n",
              "      (conv3): Conv2d(128, 512, kernel_size=(1, 1), stride=(1, 1), bias=False)\n",
              "      (bn3): BatchNorm2d(512, eps=1e-05, momentum=0.1, affine=True, track_running_stats=True)\n",
              "      (relu): ReLU(inplace=True)\n",
              "    )\n",
              "  )\n",
              "  (6): Sequential(\n",
              "    (0): Bottleneck(\n",
              "      (conv1): Conv2d(512, 256, kernel_size=(1, 1), stride=(1, 1), bias=False)\n",
              "      (bn1): BatchNorm2d(256, eps=1e-05, momentum=0.1, affine=True, track_running_stats=True)\n",
              "      (conv2): Conv2d(256, 256, kernel_size=(3, 3), stride=(2, 2), padding=(1, 1), bias=False)\n",
              "      (bn2): BatchNorm2d(256, eps=1e-05, momentum=0.1, affine=True, track_running_stats=True)\n",
              "      (conv3): Conv2d(256, 1024, kernel_size=(1, 1), stride=(1, 1), bias=False)\n",
              "      (bn3): BatchNorm2d(1024, eps=1e-05, momentum=0.1, affine=True, track_running_stats=True)\n",
              "      (relu): ReLU(inplace=True)\n",
              "      (downsample): Sequential(\n",
              "        (0): Conv2d(512, 1024, kernel_size=(1, 1), stride=(2, 2), bias=False)\n",
              "        (1): BatchNorm2d(1024, eps=1e-05, momentum=0.1, affine=True, track_running_stats=True)\n",
              "      )\n",
              "    )\n",
              "    (1): Bottleneck(\n",
              "      (conv1): Conv2d(1024, 256, kernel_size=(1, 1), stride=(1, 1), bias=False)\n",
              "      (bn1): BatchNorm2d(256, eps=1e-05, momentum=0.1, affine=True, track_running_stats=True)\n",
              "      (conv2): Conv2d(256, 256, kernel_size=(3, 3), stride=(1, 1), padding=(1, 1), bias=False)\n",
              "      (bn2): BatchNorm2d(256, eps=1e-05, momentum=0.1, affine=True, track_running_stats=True)\n",
              "      (conv3): Conv2d(256, 1024, kernel_size=(1, 1), stride=(1, 1), bias=False)\n",
              "      (bn3): BatchNorm2d(1024, eps=1e-05, momentum=0.1, affine=True, track_running_stats=True)\n",
              "      (relu): ReLU(inplace=True)\n",
              "    )\n",
              "    (2): Bottleneck(\n",
              "      (conv1): Conv2d(1024, 256, kernel_size=(1, 1), stride=(1, 1), bias=False)\n",
              "      (bn1): BatchNorm2d(256, eps=1e-05, momentum=0.1, affine=True, track_running_stats=True)\n",
              "      (conv2): Conv2d(256, 256, kernel_size=(3, 3), stride=(1, 1), padding=(1, 1), bias=False)\n",
              "      (bn2): BatchNorm2d(256, eps=1e-05, momentum=0.1, affine=True, track_running_stats=True)\n",
              "      (conv3): Conv2d(256, 1024, kernel_size=(1, 1), stride=(1, 1), bias=False)\n",
              "      (bn3): BatchNorm2d(1024, eps=1e-05, momentum=0.1, affine=True, track_running_stats=True)\n",
              "      (relu): ReLU(inplace=True)\n",
              "    )\n",
              "    (3): Bottleneck(\n",
              "      (conv1): Conv2d(1024, 256, kernel_size=(1, 1), stride=(1, 1), bias=False)\n",
              "      (bn1): BatchNorm2d(256, eps=1e-05, momentum=0.1, affine=True, track_running_stats=True)\n",
              "      (conv2): Conv2d(256, 256, kernel_size=(3, 3), stride=(1, 1), padding=(1, 1), bias=False)\n",
              "      (bn2): BatchNorm2d(256, eps=1e-05, momentum=0.1, affine=True, track_running_stats=True)\n",
              "      (conv3): Conv2d(256, 1024, kernel_size=(1, 1), stride=(1, 1), bias=False)\n",
              "      (bn3): BatchNorm2d(1024, eps=1e-05, momentum=0.1, affine=True, track_running_stats=True)\n",
              "      (relu): ReLU(inplace=True)\n",
              "    )\n",
              "    (4): Bottleneck(\n",
              "      (conv1): Conv2d(1024, 256, kernel_size=(1, 1), stride=(1, 1), bias=False)\n",
              "      (bn1): BatchNorm2d(256, eps=1e-05, momentum=0.1, affine=True, track_running_stats=True)\n",
              "      (conv2): Conv2d(256, 256, kernel_size=(3, 3), stride=(1, 1), padding=(1, 1), bias=False)\n",
              "      (bn2): BatchNorm2d(256, eps=1e-05, momentum=0.1, affine=True, track_running_stats=True)\n",
              "      (conv3): Conv2d(256, 1024, kernel_size=(1, 1), stride=(1, 1), bias=False)\n",
              "      (bn3): BatchNorm2d(1024, eps=1e-05, momentum=0.1, affine=True, track_running_stats=True)\n",
              "      (relu): ReLU(inplace=True)\n",
              "    )\n",
              "    (5): Bottleneck(\n",
              "      (conv1): Conv2d(1024, 256, kernel_size=(1, 1), stride=(1, 1), bias=False)\n",
              "      (bn1): BatchNorm2d(256, eps=1e-05, momentum=0.1, affine=True, track_running_stats=True)\n",
              "      (conv2): Conv2d(256, 256, kernel_size=(3, 3), stride=(1, 1), padding=(1, 1), bias=False)\n",
              "      (bn2): BatchNorm2d(256, eps=1e-05, momentum=0.1, affine=True, track_running_stats=True)\n",
              "      (conv3): Conv2d(256, 1024, kernel_size=(1, 1), stride=(1, 1), bias=False)\n",
              "      (bn3): BatchNorm2d(1024, eps=1e-05, momentum=0.1, affine=True, track_running_stats=True)\n",
              "      (relu): ReLU(inplace=True)\n",
              "    )\n",
              "  )\n",
              "  (7): Sequential(\n",
              "    (0): Bottleneck(\n",
              "      (conv1): Conv2d(1024, 512, kernel_size=(1, 1), stride=(1, 1), bias=False)\n",
              "      (bn1): BatchNorm2d(512, eps=1e-05, momentum=0.1, affine=True, track_running_stats=True)\n",
              "      (conv2): Conv2d(512, 512, kernel_size=(3, 3), stride=(2, 2), padding=(1, 1), bias=False)\n",
              "      (bn2): BatchNorm2d(512, eps=1e-05, momentum=0.1, affine=True, track_running_stats=True)\n",
              "      (conv3): Conv2d(512, 2048, kernel_size=(1, 1), stride=(1, 1), bias=False)\n",
              "      (bn3): BatchNorm2d(2048, eps=1e-05, momentum=0.1, affine=True, track_running_stats=True)\n",
              "      (relu): ReLU(inplace=True)\n",
              "      (downsample): Sequential(\n",
              "        (0): Conv2d(1024, 2048, kernel_size=(1, 1), stride=(2, 2), bias=False)\n",
              "        (1): BatchNorm2d(2048, eps=1e-05, momentum=0.1, affine=True, track_running_stats=True)\n",
              "      )\n",
              "    )\n",
              "    (1): Bottleneck(\n",
              "      (conv1): Conv2d(2048, 512, kernel_size=(1, 1), stride=(1, 1), bias=False)\n",
              "      (bn1): BatchNorm2d(512, eps=1e-05, momentum=0.1, affine=True, track_running_stats=True)\n",
              "      (conv2): Conv2d(512, 512, kernel_size=(3, 3), stride=(1, 1), padding=(1, 1), bias=False)\n",
              "      (bn2): BatchNorm2d(512, eps=1e-05, momentum=0.1, affine=True, track_running_stats=True)\n",
              "      (conv3): Conv2d(512, 2048, kernel_size=(1, 1), stride=(1, 1), bias=False)\n",
              "      (bn3): BatchNorm2d(2048, eps=1e-05, momentum=0.1, affine=True, track_running_stats=True)\n",
              "      (relu): ReLU(inplace=True)\n",
              "    )\n",
              "    (2): Bottleneck(\n",
              "      (conv1): Conv2d(2048, 512, kernel_size=(1, 1), stride=(1, 1), bias=False)\n",
              "      (bn1): BatchNorm2d(512, eps=1e-05, momentum=0.1, affine=True, track_running_stats=True)\n",
              "      (conv2): Conv2d(512, 512, kernel_size=(3, 3), stride=(1, 1), padding=(1, 1), bias=False)\n",
              "      (bn2): BatchNorm2d(512, eps=1e-05, momentum=0.1, affine=True, track_running_stats=True)\n",
              "      (conv3): Conv2d(512, 2048, kernel_size=(1, 1), stride=(1, 1), bias=False)\n",
              "      (bn3): BatchNorm2d(2048, eps=1e-05, momentum=0.1, affine=True, track_running_stats=True)\n",
              "      (relu): ReLU(inplace=True)\n",
              "    )\n",
              "  )\n",
              "  (8): AdaptiveAvgPool2d(output_size=(1, 1))\n",
              ")"
            ]
          },
          "metadata": {},
          "execution_count": 29
        }
      ]
    },
    {
      "cell_type": "code",
      "source": [
        "from torchvision import transforms\n",
        "from PIL import Image\n",
        "from torch.utils.data import Dataset, DataLoader\n",
        "\n",
        "# data loader\n",
        "class CustomDataset(Dataset):\n",
        "    def __init__(self, images, transform=None):\n",
        "        self.images = images\n",
        "        self.transform = transform\n",
        "\n",
        "    def __len__(self):\n",
        "        return len(self.images)\n",
        "\n",
        "    def __getitem__(self, idx):\n",
        "        img = Image.fromarray(self.images[idx])\n",
        "        if self.transform:\n",
        "            img = self.transform(img)\n",
        "        return img\n",
        "\n",
        "# transformations to be applied to the images\n",
        "transform = transforms.Compose([\n",
        "    # crop the image to shape of 224,224 in preprocess stage\n",
        "    transforms.Resize(256),  # Step 1: Resize to 256x256\n",
        "    transforms.CenterCrop(224),\n",
        "    transforms.Grayscale(num_output_channels=3),\n",
        "    transforms.ToTensor(),\n",
        "    transforms.Normalize(mean=[0.485], std=[0.229])\n",
        "])\n",
        "\n",
        "# function to preprocess an image\n",
        "def preprocess_images(images):\n",
        "    processed_images = []\n",
        "    for img in images:\n",
        "        img = Image.fromarray(img)\n",
        "        processed_image = transform(img).unsqueeze(0)  # Add batch dimension\n",
        "        processed_images.append(processed_image)\n",
        "    return processed_images\n",
        "\n",
        "\n",
        "custom_dataset = CustomDataset(images_list_nopreprocess, transform=transform)\n",
        "\n",
        "# create a data loader with batch size\n",
        "batch_size = 8\n",
        "data_loader = DataLoader(custom_dataset, batch_size=batch_size, shuffle=False)\n",
        "\n",
        "# Process images in batches\n",
        "features_list = []\n",
        "with torch.no_grad():\n",
        "    for batch in tqdm(data_loader):\n",
        "        features = resnet(batch.to(device))\n",
        "        features_list.append(features)\n",
        "\n",
        "# Concatenate features from all batches\n",
        "features = torch.cat(features_list, dim=0)\n",
        "\n",
        "print(features.shape)"
      ],
      "metadata": {
        "id": "QVKGXiIq9JxF"
      },
      "execution_count": null,
      "outputs": []
    },
    {
      "cell_type": "code",
      "source": [
        "# val\n",
        "custom_dataset_val = CustomDataset(images_list_nopreprocess_val, transform=transform)\n",
        "\n",
        "# create a data loader with batch size\n",
        "batch_size = 8\n",
        "data_loader = DataLoader(custom_dataset_val, batch_size=batch_size, shuffle=False)\n",
        "\n",
        "# Process images in batches\n",
        "features_list = []\n",
        "with torch.no_grad():\n",
        "    for batch in tqdm(data_loader):\n",
        "        features_val = resnet(batch.to(device))\n",
        "        features_list.append(features_val)\n",
        "\n",
        "# Concatenate features from all batches\n",
        "features_val = torch.cat(features_list, dim=0)\n",
        "\n",
        "print(features_val.shape)"
      ],
      "metadata": {
        "id": "TWhzTfs_-Rvz"
      },
      "execution_count": null,
      "outputs": []
    },
    {
      "cell_type": "code",
      "source": [
        "import pandas as pd\n",
        "\n",
        "features = features.cpu()\n",
        "# reshape it to 2000,2048\n",
        "reshaped_features = features.squeeze().numpy()\n",
        "reshaped_features = reshaped_features.reshape(reshaped_features.shape[0], -1)\n",
        "# Convert to DataFrame\n",
        "df_features = pd.DataFrame(reshaped_features)\n",
        "# Display the DataFrame\n",
        "print(df_features.shape)\n",
        "df_features.head(3)"
      ],
      "metadata": {
        "id": "k_HKOQH09LEf"
      },
      "execution_count": null,
      "outputs": []
    },
    {
      "cell_type": "code",
      "source": [
        "features_val = features_val.cpu()\n",
        "reshaped_features_val = features_val.squeeze().numpy()\n",
        "reshaped_features_val = reshaped_features_val.reshape(reshaped_features_val.shape[0], -1)\n",
        "df_features_val = pd.DataFrame(reshaped_features_val)\n",
        "print(df_features_val.shape)\n",
        "df_features_val.head(3)\n",
        "\n",
        "# resnet train: df_features / resnet val: df_features_val"
      ],
      "metadata": {
        "id": "HcGKJSaMWLHr"
      },
      "execution_count": null,
      "outputs": []
    },
    {
      "cell_type": "code",
      "source": [
        "train_features = df_features.values\n",
        "val_features = df_features_val.values\n",
        "top_components = 100\n",
        "resnet_train_pca_feature, pca_train_resnet = pick_top_feature_pca(train_features, top_components, 500)\n",
        "# Convert PCA transformed features to DataFrame\n",
        "df_top_100_feature_pca_resnet_train = pd.DataFrame(resnet_train_pca_feature)\n",
        "df_top_100_feature_pca_resnet_train.head(3)\n",
        "\n",
        "resnet_val_pca_feature = pick_top_feature_pca_val_test(pca_train_resnet, val_features, top_components)\n",
        "df_top_100_feature_pca_resnet_val = pd.DataFrame(resnet_val_pca_feature)\n",
        "df_top_100_feature_pca_resnet_val.head(3)"
      ],
      "metadata": {
        "id": "TXMzwUmN_Q5s"
      },
      "execution_count": null,
      "outputs": []
    },
    {
      "cell_type": "code",
      "source": [
        "Y_train_resnet = df_train['label']\n",
        "X_train_resnet = resnet_train_pca_feature\n",
        "print(X_train_resnet.shape)"
      ],
      "metadata": {
        "id": "RYwQLWv3BORx",
        "colab": {
          "base_uri": "https://localhost:8080/"
        },
        "outputId": "73e5a2f6-c02a-4cdf-9f02-799a96fe8a75"
      },
      "execution_count": 14,
      "outputs": [
        {
          "output_type": "stream",
          "name": "stdout",
          "text": [
            "(3343, 100)\n"
          ]
        }
      ]
    },
    {
      "cell_type": "code",
      "source": [
        "Y_val_resnet = df_val['label']\n",
        "X_val_resnet = resnet_val_pca_feature\n",
        "print(X_val_resnet.shape)"
      ],
      "metadata": {
        "id": "JGiykvBgBx8F",
        "colab": {
          "base_uri": "https://localhost:8080/"
        },
        "outputId": "351d1308-2691-4bf6-df93-06d0f772e25a"
      },
      "execution_count": 15,
      "outputs": [
        {
          "output_type": "stream",
          "name": "stdout",
          "text": [
            "(418, 100)\n"
          ]
        }
      ]
    },
    {
      "cell_type": "code",
      "source": [
        "df_X_train_resnet = pd.DataFrame(X_train_resnet)\n",
        "df_X_val_resnet = pd.DataFrame(X_val_resnet)\n",
        "\n",
        "df_X_train_resnet.to_csv(\"/content/drive/MyDrive/galaxy_zoo/df_X_train_resnet.csv\", index=False)\n",
        "df_X_val_resnet.to_csv(\"/content/drive/MyDrive/galaxy_zoo/df_X_val_resnet.csv\", index=False)"
      ],
      "metadata": {
        "id": "ABTqyu12KrGg"
      },
      "execution_count": 16,
      "outputs": []
    },
    {
      "cell_type": "markdown",
      "source": [
        "Pipeline1"
      ],
      "metadata": {
        "id": "nKWDpsUu9WVI"
      }
    },
    {
      "cell_type": "code",
      "source": [
        "preprocessed_features = preprocess_1(df_train)\n",
        "preprocessed_features.shape"
      ],
      "metadata": {
        "colab": {
          "base_uri": "https://localhost:8080/"
        },
        "id": "9hfx5I8j9Xx-",
        "outputId": "438ac825-ff65-49e6-a647-6b7cfe8ed1fb"
      },
      "execution_count": 18,
      "outputs": [
        {
          "output_type": "stream",
          "name": "stderr",
          "text": [
            "100%|██████████| 3343/3343 [03:06<00:00, 17.97it/s]\n"
          ]
        },
        {
          "output_type": "execute_result",
          "data": {
            "text/plain": [
              "(3343, 200)"
            ]
          },
          "metadata": {},
          "execution_count": 18
        }
      ]
    },
    {
      "cell_type": "code",
      "source": [
        "with open(\"codebook.npy\", \"rb\") as f:\n",
        "\tcodebook = np.load(f)\n",
        "preprocessed_features_val = preprocess_1(df_val, codebook=codebook)\n",
        "preprocessed_features_val.shape\n",
        "\n",
        "# pipeline1 train: preprocessed_features / pipeline1 val: preprocessed_features_val"
      ],
      "metadata": {
        "colab": {
          "base_uri": "https://localhost:8080/"
        },
        "id": "Jq_D4gen-ynh",
        "outputId": "fe493fce-ce5d-4175-e367-9be6deef0811"
      },
      "execution_count": 19,
      "outputs": [
        {
          "output_type": "stream",
          "name": "stderr",
          "text": [
            "100%|██████████| 418/418 [00:21<00:00, 19.59it/s]\n"
          ]
        },
        {
          "output_type": "execute_result",
          "data": {
            "text/plain": [
              "(418, 200)"
            ]
          },
          "metadata": {},
          "execution_count": 19
        }
      ]
    },
    {
      "cell_type": "code",
      "source": [
        "Y_train_pipeline1 = df_train['label']\n",
        "max = np.max(preprocessed_features, axis=1)\n",
        "vector_representations_normalized = preprocessed_features / max[:, np.newaxis]\n",
        "X_train_pipeline1 = vector_representations_normalized"
      ],
      "metadata": {
        "id": "-t7i5veAANVl"
      },
      "execution_count": 20,
      "outputs": []
    },
    {
      "cell_type": "code",
      "source": [
        "Y_val_pipeline1 = df_val['label']\n",
        "max_val = np.max(preprocessed_features_val, axis=1)\n",
        "vector_representations_normalized_val = preprocessed_features_val / max_val[:, np.newaxis]\n",
        "x_val_pipeline1 = vector_representations_normalized_val"
      ],
      "metadata": {
        "id": "t6jcOyOaAgQD"
      },
      "execution_count": 21,
      "outputs": []
    },
    {
      "cell_type": "code",
      "source": [
        "df_X_train_pipeline1 = pd.DataFrame(X_train_pipeline1)\n",
        "df_x_val_pipeline1 = pd.DataFrame(x_val_pipeline1)\n",
        "\n",
        "df_X_train_pipeline1.to_csv(\"/content/drive/MyDrive/galaxy_zoo/df_X_train_pipeline1.csv\", index=False)\n",
        "df_x_val_pipeline1.to_csv(\"/content/drive/MyDrive/galaxy_zoo/df_X_val_pipeline1.csv\", index=False)"
      ],
      "metadata": {
        "id": "WGWxdDiJLbxp"
      },
      "execution_count": 22,
      "outputs": []
    },
    {
      "cell_type": "markdown",
      "source": [
        "pipeline 2"
      ],
      "metadata": {
        "id": "yTATJY27Coui"
      }
    },
    {
      "cell_type": "code",
      "source": [
        "df_train.shape"
      ],
      "metadata": {
        "colab": {
          "base_uri": "https://localhost:8080/"
        },
        "id": "piA5EJATaV_1",
        "outputId": "8ff75ba9-81e3-4282-9c95-10379aad2298"
      },
      "execution_count": 5,
      "outputs": [
        {
          "output_type": "execute_result",
          "data": {
            "text/plain": [
              "(3343, 3)"
            ]
          },
          "metadata": {},
          "execution_count": 5
        }
      ]
    },
    {
      "cell_type": "code",
      "source": [
        "df_preprocessed_2_train = preprocess_2(df_train[:1500])\n",
        "df_preprocessed_2_train.columns = [f'feature_{i}' for i in range(len(df_preprocessed_2_train.columns))]\n",
        "print(df_preprocessed_2_train.shape)\n",
        "\n",
        "df_preprocessed_2_val = preprocess_2(df_val)\n",
        "df_preprocessed_2_val.columns = [f'feature_{i}' for i in range(len(df_preprocessed_2_val.columns))]\n",
        "print(df_preprocessed_2_val.shape)"
      ],
      "metadata": {
        "colab": {
          "base_uri": "https://localhost:8080/"
        },
        "id": "tiAFgWJBCq1T",
        "outputId": "571272df-4070-4575-c33c-5883d0bbb79b"
      },
      "execution_count": 6,
      "outputs": [
        {
          "output_type": "stream",
          "name": "stderr",
          "text": [
            "100%|██████████| 1500/1500 [04:42<00:00,  5.31it/s]\n"
          ]
        },
        {
          "output_type": "stream",
          "name": "stdout",
          "text": [
            "(1500, 63504)\n"
          ]
        },
        {
          "output_type": "stream",
          "name": "stderr",
          "text": [
            "100%|██████████| 418/418 [01:00<00:00,  6.91it/s]\n"
          ]
        },
        {
          "output_type": "stream",
          "name": "stdout",
          "text": [
            "(418, 63504)\n"
          ]
        }
      ]
    },
    {
      "cell_type": "code",
      "source": [
        "#split into two chunks to prevent from running out of RAM\n",
        "df_preprocessed_2_train_2 = preprocess_2(df_train[1500:])\n",
        "df_preprocessed_2_train_2.columns = [f'feature_{i}' for i in range(len(df_preprocessed_2_train.columns))]\n",
        "print(df_preprocessed_2_train_2.shape)\n",
        "df_preprocessed_2_train_ = pd.concat([df_preprocessed_2_train, df_preprocessed_2_train_2], axis=0)\n",
        "print(df_preprocessed_2_train_.shape)"
      ],
      "metadata": {
        "colab": {
          "base_uri": "https://localhost:8080/",
          "height": 240
        },
        "id": "yjHT29FqaZY0",
        "outputId": "b79b43b6-72e8-441a-cab2-0c67ed410499"
      },
      "execution_count": 7,
      "outputs": [
        {
          "output_type": "stream",
          "name": "stderr",
          "text": [
            "100%|██████████| 1843/1843 [04:36<00:00,  6.66it/s]\n"
          ]
        },
        {
          "output_type": "stream",
          "name": "stdout",
          "text": [
            "(1843, 63504)\n"
          ]
        },
        {
          "output_type": "error",
          "ename": "AttributeError",
          "evalue": "module 'pandas' has no attribute 'concate'",
          "traceback": [
            "\u001b[0;31m---------------------------------------------------------------------------\u001b[0m",
            "\u001b[0;31mAttributeError\u001b[0m                            Traceback (most recent call last)",
            "\u001b[0;32m<ipython-input-7-95d3f01cdb51>\u001b[0m in \u001b[0;36m<cell line: 5>\u001b[0;34m()\u001b[0m\n\u001b[1;32m      3\u001b[0m \u001b[0mdf_preprocessed_2_train_2\u001b[0m\u001b[0;34m.\u001b[0m\u001b[0mcolumns\u001b[0m \u001b[0;34m=\u001b[0m \u001b[0;34m[\u001b[0m\u001b[0;34mf'feature_{i}'\u001b[0m \u001b[0;32mfor\u001b[0m \u001b[0mi\u001b[0m \u001b[0;32min\u001b[0m \u001b[0mrange\u001b[0m\u001b[0;34m(\u001b[0m\u001b[0mlen\u001b[0m\u001b[0;34m(\u001b[0m\u001b[0mdf_preprocessed_2_train\u001b[0m\u001b[0;34m.\u001b[0m\u001b[0mcolumns\u001b[0m\u001b[0;34m)\u001b[0m\u001b[0;34m)\u001b[0m\u001b[0;34m]\u001b[0m\u001b[0;34m\u001b[0m\u001b[0;34m\u001b[0m\u001b[0m\n\u001b[1;32m      4\u001b[0m \u001b[0mprint\u001b[0m\u001b[0;34m(\u001b[0m\u001b[0mdf_preprocessed_2_train_2\u001b[0m\u001b[0;34m.\u001b[0m\u001b[0mshape\u001b[0m\u001b[0;34m)\u001b[0m\u001b[0;34m\u001b[0m\u001b[0;34m\u001b[0m\u001b[0m\n\u001b[0;32m----> 5\u001b[0;31m \u001b[0mdf_preprocessed_2_train_\u001b[0m \u001b[0;34m=\u001b[0m \u001b[0mpd\u001b[0m\u001b[0;34m.\u001b[0m\u001b[0mconcate\u001b[0m\u001b[0;34m(\u001b[0m\u001b[0;34m[\u001b[0m\u001b[0mdf_preprocessed_2_train\u001b[0m\u001b[0;34m,\u001b[0m \u001b[0mdf_preprocessed_2_train_2\u001b[0m\u001b[0;34m]\u001b[0m\u001b[0;34m,\u001b[0m \u001b[0maxis\u001b[0m\u001b[0;34m=\u001b[0m\u001b[0;36m0\u001b[0m\u001b[0;34m)\u001b[0m\u001b[0;34m\u001b[0m\u001b[0;34m\u001b[0m\u001b[0m\n\u001b[0m\u001b[1;32m      6\u001b[0m \u001b[0mprint\u001b[0m\u001b[0;34m(\u001b[0m\u001b[0mdf_preprocessed_2_train_\u001b[0m\u001b[0;34m.\u001b[0m\u001b[0mshape\u001b[0m\u001b[0;34m)\u001b[0m\u001b[0;34m\u001b[0m\u001b[0;34m\u001b[0m\u001b[0m\n",
            "\u001b[0;31mAttributeError\u001b[0m: module 'pandas' has no attribute 'concate'"
          ]
        }
      ]
    },
    {
      "cell_type": "code",
      "source": [
        "train_features = df_preprocessed_2_train_.values\n",
        "val_features = df_preprocessed_2_val.values\n",
        "top_components = 200\n",
        "hog_train_pca_feature, pca_train_hog = pick_top_feature_pca(train_features, top_components, 500)\n",
        "# Convert PCA transformed features to DataFrame\n",
        "df_top_100_feature_pca_hog_train = pd.DataFrame(hog_train_pca_feature)\n",
        "df_top_100_feature_pca_hog_train.head(3)\n",
        "\n",
        "hog_val_pca_feature = pick_top_feature_pca_val_test(pca_train_hog, val_features, top_components)\n",
        "df_top_100_feature_pca_hog_val = pd.DataFrame(hog_val_pca_feature)\n",
        "df_top_100_feature_pca_hog_val.head(3)"
      ],
      "metadata": {
        "colab": {
          "base_uri": "https://localhost:8080/",
          "height": 586
        },
        "id": "pCn1SZiyDUas",
        "outputId": "a02fc9d8-bf36-4d82-f265-cc8ff142af82"
      },
      "execution_count": 12,
      "outputs": [
        {
          "output_type": "display_data",
          "data": {
            "text/plain": [
              "<Figure size 800x400 with 1 Axes>"
            ],
            "image/png": "[encoded data removed]"
          },
          "metadata": {}
        },
        {
          "output_type": "execute_result",
          "data": {
            "text/plain": [
              "        0         1         2         3         4         5         6    \\\n",
              "0  0.348372  0.455870 -1.725634  0.542905  0.769782  0.877971  0.237853   \n",
              "1 -1.300482 -0.721226  2.229454 -1.120017  1.114784  1.408843 -0.242141   \n",
              "2 -1.175700 -1.919700  0.941868 -0.467085  0.983028 -0.852368  0.183645   \n",
              "\n",
              "        7         8         9    ...       190       191       192       193  \\\n",
              "0  0.099433 -0.832042 -0.042922  ... -0.187497 -0.131403  0.019383  0.482129   \n",
              "1  0.305407  0.359669 -1.165739  ...  0.018519  0.232503 -0.029634  0.033788   \n",
              "2 -0.020305 -0.604794  0.068552  ... -0.282733 -0.121643 -0.034018  0.156672   \n",
              "\n",
              "        194       195       196       197       198       199  \n",
              "0 -0.147921  0.337593 -0.169839 -0.135545 -0.052063 -0.003636  \n",
              "1  0.046058 -0.059429 -0.179069  0.176087  0.241373 -0.044379  \n",
              "2  0.045459  0.093007  0.027655  0.009194 -0.142116 -0.008156  \n",
              "\n",
              "[3 rows x 200 columns]"
            ],
            "text/html": [
              "\n",
              "  <div id=\"df-155c0548-8b69-45b6-a1ea-9e66eeac40ad\" class=\"colab-df-container\">\n",
              "    <div>\n",
              "<style scoped>\n",
              "    .dataframe tbody tr th:only-of-type {\n",
              "        vertical-align: middle;\n",
              "    }\n",
              "\n",
              "    .dataframe tbody tr th {\n",
              "        vertical-align: top;\n",
              "    }\n",
              "\n",
              "    .dataframe thead th {\n",
              "        text-align: right;\n",
              "    }\n",
              "</style>\n",
              "<table border=\"1\" class=\"dataframe\">\n",
              "  <thead>\n",
              "    <tr style=\"text-align: right;\">\n",
              "      <th></th>\n",
              "      <th>0</th>\n",
              "      <th>1</th>\n",
              "      <th>2</th>\n",
              "      <th>3</th>\n",
              "      <th>4</th>\n",
              "      <th>5</th>\n",
              "      <th>6</th>\n",
              "      <th>7</th>\n",
              "      <th>8</th>\n",
              "      <th>9</th>\n",
              "      <th>...</th>\n",
              "      <th>190</th>\n",
              "      <th>191</th>\n",
              "      <th>192</th>\n",
              "      <th>193</th>\n",
              "      <th>194</th>\n",
              "      <th>195</th>\n",
              "      <th>196</th>\n",
              "      <th>197</th>\n",
              "      <th>198</th>\n",
              "      <th>199</th>\n",
              "    </tr>\n",
              "  </thead>\n",
              "  <tbody>\n",
              "    <tr>\n",
              "      <th>0</th>\n",
              "      <td>0.348372</td>\n",
              "      <td>0.455870</td>\n",
              "      <td>-1.725634</td>\n",
              "      <td>0.542905</td>\n",
              "      <td>0.769782</td>\n",
              "      <td>0.877971</td>\n",
              "      <td>0.237853</td>\n",
              "      <td>0.099433</td>\n",
              "      <td>-0.832042</td>\n",
              "      <td>-0.042922</td>\n",
              "      <td>...</td>\n",
              "      <td>-0.187497</td>\n",
              "      <td>-0.131403</td>\n",
              "      <td>0.019383</td>\n",
              "      <td>0.482129</td>\n",
              "      <td>-0.147921</td>\n",
              "      <td>0.337593</td>\n",
              "      <td>-0.169839</td>\n",
              "      <td>-0.135545</td>\n",
              "      <td>-0.052063</td>\n",
              "      <td>-0.003636</td>\n",
              "    </tr>\n",
              "    <tr>\n",
              "      <th>1</th>\n",
              "      <td>-1.300482</td>\n",
              "      <td>-0.721226</td>\n",
              "      <td>2.229454</td>\n",
              "      <td>-1.120017</td>\n",
              "      <td>1.114784</td>\n",
              "      <td>1.408843</td>\n",
              "      <td>-0.242141</td>\n",
              "      <td>0.305407</td>\n",
              "      <td>0.359669</td>\n",
              "      <td>-1.165739</td>\n",
              "      <td>...</td>\n",
              "      <td>0.018519</td>\n",
              "      <td>0.232503</td>\n",
              "      <td>-0.029634</td>\n",
              "      <td>0.033788</td>\n",
              "      <td>0.046058</td>\n",
              "      <td>-0.059429</td>\n",
              "      <td>-0.179069</td>\n",
              "      <td>0.176087</td>\n",
              "      <td>0.241373</td>\n",
              "      <td>-0.044379</td>\n",
              "    </tr>\n",
              "    <tr>\n",
              "      <th>2</th>\n",
              "      <td>-1.175700</td>\n",
              "      <td>-1.919700</td>\n",
              "      <td>0.941868</td>\n",
              "      <td>-0.467085</td>\n",
              "      <td>0.983028</td>\n",
              "      <td>-0.852368</td>\n",
              "      <td>0.183645</td>\n",
              "      <td>-0.020305</td>\n",
              "      <td>-0.604794</td>\n",
              "      <td>0.068552</td>\n",
              "      <td>...</td>\n",
              "      <td>-0.282733</td>\n",
              "      <td>-0.121643</td>\n",
              "      <td>-0.034018</td>\n",
              "      <td>0.156672</td>\n",
              "      <td>0.045459</td>\n",
              "      <td>0.093007</td>\n",
              "      <td>0.027655</td>\n",
              "      <td>0.009194</td>\n",
              "      <td>-0.142116</td>\n",
              "      <td>-0.008156</td>\n",
              "    </tr>\n",
              "  </tbody>\n",
              "</table>\n",
              "<p>3 rows × 200 columns</p>\n",
              "</div>\n",
              "    <div class=\"colab-df-buttons\">\n",
              "\n",
              "  <div class=\"colab-df-container\">\n",
              "    <button class=\"colab-df-convert\" onclick=\"convertToInteractive('df-155c0548-8b69-45b6-a1ea-9e66eeac40ad')\"\n",
              "            title=\"Convert this dataframe to an interactive table.\"\n",
              "            style=\"display:none;\">\n",
              "\n",
              "  <svg xmlns=\"http://www.w3.org/2000/svg\" height=\"24px\" viewBox=\"0 -960 960 960\">\n",
              "    <path d=\"M120-120v-720h720v720H120Zm60-500h600v-160H180v160Zm220 220h160v-160H400v160Zm0 220h160v-160H400v160ZM180-400h160v-160H180v160Zm440 0h160v-160H620v160ZM180-180h160v-160H180v160Zm440 0h160v-160H620v160Z\"/>\n",
              "  </svg>\n",
              "    </button>\n",
              "\n",
              "  <style>\n",
              "    .colab-df-container {\n",
              "      display:flex;\n",
              "      gap: 12px;\n",
              "    }\n",
              "\n",
              "    .colab-df-convert {\n",
              "      background-color: #E8F0FE;\n",
              "      border: none;\n",
              "      border-radius: 50%;\n",
              "      cursor: pointer;\n",
              "      display: none;\n",
              "      fill: #1967D2;\n",
              "      height: 32px;\n",
              "      padding: 0 0 0 0;\n",
              "      width: 32px;\n",
              "    }\n",
              "\n",
              "    .colab-df-convert:hover {\n",
              "      background-color: #E2EBFA;\n",
              "      box-shadow: 0px 1px 2px rgba(60, 64, 67, 0.3), 0px 1px 3px 1px rgba(60, 64, 67, 0.15);\n",
              "      fill: #174EA6;\n",
              "    }\n",
              "\n",
              "    .colab-df-buttons div {\n",
              "      margin-bottom: 4px;\n",
              "    }\n",
              "\n",
              "    [theme=dark] .colab-df-convert {\n",
              "      background-color: #3B4455;\n",
              "      fill: #D2E3FC;\n",
              "    }\n",
              "\n",
              "    [theme=dark] .colab-df-convert:hover {\n",
              "      background-color: #434B5C;\n",
              "      box-shadow: 0px 1px 3px 1px rgba(0, 0, 0, 0.15);\n",
              "      filter: drop-shadow(0px 1px 2px rgba(0, 0, 0, 0.3));\n",
              "      fill: #FFFFFF;\n",
              "    }\n",
              "  </style>\n",
              "\n",
              "    <script>\n",
              "      const buttonEl =\n",
              "        document.querySelector('#df-155c0548-8b69-45b6-a1ea-9e66eeac40ad button.colab-df-convert');\n",
              "      buttonEl.style.display =\n",
              "        google.colab.kernel.accessAllowed ? 'block' : 'none';\n",
              "\n",
              "      async function convertToInteractive(key) {\n",
              "        const element = document.querySelector('#df-155c0548-8b69-45b6-a1ea-9e66eeac40ad');\n",
              "        const dataTable =\n",
              "          await google.colab.kernel.invokeFunction('convertToInteractive',\n",
              "                                                    [key], {});\n",
              "        if (!dataTable) return;\n",
              "\n",
              "        const docLinkHtml = 'Like what you see? Visit the ' +\n",
              "          '<a target=\"_blank\" href=https://colab.research.google.com/notebooks/data_table.ipynb>data table notebook</a>'\n",
              "          + ' to learn more about interactive tables.';\n",
              "        element.innerHTML = '';\n",
              "        dataTable['output_type'] = 'display_data';\n",
              "        await google.colab.output.renderOutput(dataTable, element);\n",
              "        const docLink = document.createElement('div');\n",
              "        docLink.innerHTML = docLinkHtml;\n",
              "        element.appendChild(docLink);\n",
              "      }\n",
              "    </script>\n",
              "  </div>\n",
              "\n",
              "\n",
              "<div id=\"df-0731bfa9-c1a9-45e6-a2bd-58cba2c6cd29\">\n",
              "  <button class=\"colab-df-quickchart\" onclick=\"quickchart('df-0731bfa9-c1a9-45e6-a2bd-58cba2c6cd29')\"\n",
              "            title=\"Suggest charts\"\n",
              "            style=\"display:none;\">\n",
              "\n",
              "<svg xmlns=\"http://www.w3.org/2000/svg\" height=\"24px\"viewBox=\"0 0 24 24\"\n",
              "     width=\"24px\">\n",
              "    <g>\n",
              "        <path d=\"M19 3H5c-1.1 0-2 .9-2 2v14c0 1.1.9 2 2 2h14c1.1 0 2-.9 2-2V5c0-1.1-.9-2-2-2zM9 17H7v-7h2v7zm4 0h-2V7h2v10zm4 0h-2v-4h2v4z\"/>\n",
              "    </g>\n",
              "</svg>\n",
              "  </button>\n",
              "\n",
              "<style>\n",
              "  .colab-df-quickchart {\n",
              "      --bg-color: #E8F0FE;\n",
              "      --fill-color: #1967D2;\n",
              "      --hover-bg-color: #E2EBFA;\n",
              "      --hover-fill-color: #174EA6;\n",
              "      --disabled-fill-color: #AAA;\n",
              "      --disabled-bg-color: #DDD;\n",
              "  }\n",
              "\n",
              "  [theme=dark] .colab-df-quickchart {\n",
              "      --bg-color: #3B4455;\n",
              "      --fill-color: #D2E3FC;\n",
              "      --hover-bg-color: #434B5C;\n",
              "      --hover-fill-color: #FFFFFF;\n",
              "      --disabled-bg-color: #3B4455;\n",
              "      --disabled-fill-color: #666;\n",
              "  }\n",
              "\n",
              "  .colab-df-quickchart {\n",
              "    background-color: var(--bg-color);\n",
              "    border: none;\n",
              "    border-radius: 50%;\n",
              "    cursor: pointer;\n",
              "    display: none;\n",
              "    fill: var(--fill-color);\n",
              "    height: 32px;\n",
              "    padding: 0;\n",
              "    width: 32px;\n",
              "  }\n",
              "\n",
              "  .colab-df-quickchart:hover {\n",
              "    background-color: var(--hover-bg-color);\n",
              "    box-shadow: 0 1px 2px rgba(60, 64, 67, 0.3), 0 1px 3px 1px rgba(60, 64, 67, 0.15);\n",
              "    fill: var(--button-hover-fill-color);\n",
              "  }\n",
              "\n",
              "  .colab-df-quickchart-complete:disabled,\n",
              "  .colab-df-quickchart-complete:disabled:hover {\n",
              "    background-color: var(--disabled-bg-color);\n",
              "    fill: var(--disabled-fill-color);\n",
              "    box-shadow: none;\n",
              "  }\n",
              "\n",
              "  .colab-df-spinner {\n",
              "    border: 2px solid var(--fill-color);\n",
              "    border-color: transparent;\n",
              "    border-bottom-color: var(--fill-color);\n",
              "    animation:\n",
              "      spin 1s steps(1) infinite;\n",
              "  }\n",
              "\n",
              "  @keyframes spin {\n",
              "    0% {\n",
              "      border-color: transparent;\n",
              "      border-bottom-color: var(--fill-color);\n",
              "      border-left-color: var(--fill-color);\n",
              "    }\n",
              "    20% {\n",
              "      border-color: transparent;\n",
              "      border-left-color: var(--fill-color);\n",
              "      border-top-color: var(--fill-color);\n",
              "    }\n",
              "    30% {\n",
              "      border-color: transparent;\n",
              "      border-left-color: var(--fill-color);\n",
              "      border-top-color: var(--fill-color);\n",
              "      border-right-color: var(--fill-color);\n",
              "    }\n",
              "    40% {\n",
              "      border-color: transparent;\n",
              "      border-right-color: var(--fill-color);\n",
              "      border-top-color: var(--fill-color);\n",
              "    }\n",
              "    60% {\n",
              "      border-color: transparent;\n",
              "      border-right-color: var(--fill-color);\n",
              "    }\n",
              "    80% {\n",
              "      border-color: transparent;\n",
              "      border-right-color: var(--fill-color);\n",
              "      border-bottom-color: var(--fill-color);\n",
              "    }\n",
              "    90% {\n",
              "      border-color: transparent;\n",
              "      border-bottom-color: var(--fill-color);\n",
              "    }\n",
              "  }\n",
              "</style>\n",
              "\n",
              "  <script>\n",
              "    async function quickchart(key) {\n",
              "      const quickchartButtonEl =\n",
              "        document.querySelector('#' + key + ' button');\n",
              "      quickchartButtonEl.disabled = true;  // To prevent multiple clicks.\n",
              "      quickchartButtonEl.classList.add('colab-df-spinner');\n",
              "      try {\n",
              "        const charts = await google.colab.kernel.invokeFunction(\n",
              "            'suggestCharts', [key], {});\n",
              "      } catch (error) {\n",
              "        console.error('Error during call to suggestCharts:', error);\n",
              "      }\n",
              "      quickchartButtonEl.classList.remove('colab-df-spinner');\n",
              "      quickchartButtonEl.classList.add('colab-df-quickchart-complete');\n",
              "    }\n",
              "    (() => {\n",
              "      let quickchartButtonEl =\n",
              "        document.querySelector('#df-0731bfa9-c1a9-45e6-a2bd-58cba2c6cd29 button');\n",
              "      quickchartButtonEl.style.display =\n",
              "        google.colab.kernel.accessAllowed ? 'block' : 'none';\n",
              "    })();\n",
              "  </script>\n",
              "</div>\n",
              "    </div>\n",
              "  </div>\n"
            ],
            "application/vnd.google.colaboratory.intrinsic+json": {
              "type": "dataframe",
              "variable_name": "df_top_100_feature_pca_hog_val"
            }
          },
          "metadata": {},
          "execution_count": 12
        }
      ]
    },
    {
      "cell_type": "code",
      "source": [
        "# feature normarlization since we only pick up top 200. z score normalization\n",
        "\n",
        "from sklearn.preprocessing import StandardScaler\n",
        "\n",
        "def feature_normalization(df_feature):\n",
        "  scaler = StandardScaler()\n",
        "  normalized_features = scaler.fit_transform(df_feature.values)\n",
        "  df_normalized = pd.DataFrame(normalized_features, columns=df_feature.columns)\n",
        "  return df_normalized"
      ],
      "metadata": {
        "id": "gFOVGkDmD657"
      },
      "execution_count": 13,
      "outputs": []
    },
    {
      "cell_type": "code",
      "source": [
        "df_top_100_feature_pca_hog_train_normalized = feature_normalization(df_top_100_feature_pca_hog_train)\n",
        "df_top_100_feature_pca_hog_val_normalized = feature_normalization(df_top_100_feature_pca_hog_val)"
      ],
      "metadata": {
        "id": "B-Ml_Yz-EETY"
      },
      "execution_count": 14,
      "outputs": []
    },
    {
      "cell_type": "code",
      "source": [
        "Y_train_hog = df_train['label']\n",
        "X_train_hog = df_top_100_feature_pca_hog_train_normalized.values"
      ],
      "metadata": {
        "id": "dkRwjL1kEM-7"
      },
      "execution_count": 15,
      "outputs": []
    },
    {
      "cell_type": "code",
      "source": [
        "Y_val_hog = df_val['label']\n",
        "X_val_hog = df_top_100_feature_pca_hog_val_normalized.values"
      ],
      "metadata": {
        "id": "dA_DIDs4EWLU"
      },
      "execution_count": 16,
      "outputs": []
    },
    {
      "cell_type": "code",
      "source": [
        "print(X_train_pipeline1.shape, X_train_hog.shape, X_train_resnet.shape)\n",
        "print(x_val_pipeline1.shape, X_val_hog.shape, X_val_resnet.shape)"
      ],
      "metadata": {
        "colab": {
          "base_uri": "https://localhost:8080/",
          "height": 185
        },
        "id": "AsrDgjAUEwN-",
        "outputId": "ae33020f-9c1a-4a40-8e59-2cea00f0540c"
      },
      "execution_count": 20,
      "outputs": [
        {
          "output_type": "stream",
          "name": "stdout",
          "text": [
            "(3343, 200) (3343, 200) (3343, 100)\n"
          ]
        },
        {
          "output_type": "error",
          "ename": "NameError",
          "evalue": "name 'X_val_resnet' is not defined",
          "traceback": [
            "\u001b[0;31m---------------------------------------------------------------------------\u001b[0m",
            "\u001b[0;31mNameError\u001b[0m                                 Traceback (most recent call last)",
            "\u001b[0;32m<ipython-input-20-37db805540b5>\u001b[0m in \u001b[0;36m<cell line: 2>\u001b[0;34m()\u001b[0m\n\u001b[1;32m      1\u001b[0m \u001b[0mprint\u001b[0m\u001b[0;34m(\u001b[0m\u001b[0mX_train_pipeline1\u001b[0m\u001b[0;34m.\u001b[0m\u001b[0mshape\u001b[0m\u001b[0;34m,\u001b[0m \u001b[0mX_train_hog\u001b[0m\u001b[0;34m.\u001b[0m\u001b[0mshape\u001b[0m\u001b[0;34m,\u001b[0m \u001b[0mX_train_resnet\u001b[0m\u001b[0;34m.\u001b[0m\u001b[0mshape\u001b[0m\u001b[0;34m)\u001b[0m\u001b[0;34m\u001b[0m\u001b[0;34m\u001b[0m\u001b[0m\n\u001b[0;32m----> 2\u001b[0;31m \u001b[0mprint\u001b[0m\u001b[0;34m(\u001b[0m\u001b[0mx_val_pipeline1\u001b[0m\u001b[0;34m.\u001b[0m\u001b[0mshape\u001b[0m\u001b[0;34m,\u001b[0m \u001b[0mX_val_hog\u001b[0m\u001b[0;34m.\u001b[0m\u001b[0mshape\u001b[0m\u001b[0;34m,\u001b[0m \u001b[0mX_val_resnet\u001b[0m\u001b[0;34m.\u001b[0m\u001b[0mshape\u001b[0m\u001b[0;34m)\u001b[0m\u001b[0;34m\u001b[0m\u001b[0;34m\u001b[0m\u001b[0m\n\u001b[0m",
            "\u001b[0;31mNameError\u001b[0m: name 'X_val_resnet' is not defined"
          ]
        }
      ]
    },
    {
      "cell_type": "code",
      "source": [
        "df_X_train_hog = pd.DataFrame(X_train_hog)\n",
        "df_x_val_hog = pd.DataFrame(X_val_hog)\n",
        "\n",
        "df_X_train_hog.to_csv(\"/content/drive/MyDrive/galaxy_zoo/df_X_train_hog.csv\", index=False)\n",
        "df_x_val_hog.to_csv(\"/content/drive/MyDrive/galaxy_zoo/df_X_val_hog.csv\", index=False)"
      ],
      "metadata": {
        "id": "OKqmuOcBL0ry"
      },
      "execution_count": 18,
      "outputs": []
    },
    {
      "cell_type": "code",
      "source": [
        "X_train_pipeline1 = pd.read_csv(\"/content/drive/MyDrive/galaxy_zoo/df_X_train_pipeline1.csv\").values\n",
        "X_train_hog = pd.read_csv(\"/content/drive/MyDrive/galaxy_zoo/df_X_train_hog.csv\").values\n",
        "X_train_resnet = pd.read_csv(\"/content/drive/MyDrive/galaxy_zoo/df_X_train_resnet.csv\").values\n",
        "x_val_pipeline1 = pd.read_csv(\"/content/drive/MyDrive/galaxy_zoo/df_X_val_pipeline1.csv\").values\n",
        "X_val_hog = pd.read_csv(\"/content/drive/MyDrive/galaxy_zoo/df_X_val_hog.csv\").values\n",
        "resnet_val_pca_feature = pd.read_csv(\"/content/drive/MyDrive/galaxy_zoo/df_X_val_resnet.csv\").values"
      ],
      "metadata": {
        "id": "2secADU3MB9C"
      },
      "execution_count": 19,
      "outputs": []
    },
    {
      "cell_type": "markdown",
      "source": [
        "Combine all three sets of features"
      ],
      "metadata": {
        "id": "cWASURuhEecf"
      }
    },
    {
      "cell_type": "code",
      "source": [
        "Y_train = df_train['label']\n",
        "Y_val = df_val['label']\n",
        "\n",
        "X_train = np.hstack([X_train_pipeline1, X_train_hog, X_train_resnet])\n",
        "X_val = np.hstack([x_val_pipeline1, X_val_hog, resnet_val_pca_feature])\n",
        "print(X_train.shape, X_val.shape, Y_train.shape, Y_val.shape)"
      ],
      "metadata": {
        "colab": {
          "base_uri": "https://localhost:8080/"
        },
        "id": "8lqY6ThEEjXA",
        "outputId": "0b3f99ee-d44a-4b24-df84-a8281a1a176c"
      },
      "execution_count": 21,
      "outputs": [
        {
          "output_type": "stream",
          "name": "stdout",
          "text": [
            "(3343, 500) (418, 500) (3343,) (418,)\n"
          ]
        }
      ]
    },
    {
      "cell_type": "markdown",
      "source": [
        "Post PCA (just wanna see the variance)"
      ],
      "metadata": {
        "id": "D6h31oz6X6iC"
      }
    },
    {
      "cell_type": "code",
      "source": [
        "top_components = 200\n",
        "allpipeline_feature_train_pca, pca_all = pick_top_feature_pca(X_train, top_components, 500)\n",
        "allpipeline_feature_val_pca = pick_top_feature_pca_val_test(pca_all, X_val, top_components)"
      ],
      "metadata": {
        "id": "SplcFE_5Xtp5"
      },
      "execution_count": null,
      "outputs": []
    },
    {
      "cell_type": "code",
      "source": [
        "# X_train = allpipeline_feature_train_pca\n",
        "# X_val = allpipeline_feature_val_pca"
      ],
      "metadata": {
        "id": "iNn5_JrPY2YH"
      },
      "execution_count": null,
      "outputs": []
    },
    {
      "cell_type": "markdown",
      "source": [
        "LDA + linear regression, cross validation"
      ],
      "metadata": {
        "id": "iI25QSopPcVR"
      }
    },
    {
      "cell_type": "code",
      "source": [
        "from sklearn.model_selection import train_test_split\n",
        "from sklearn.discriminant_analysis import LinearDiscriminantAnalysis\n",
        "from sklearn.metrics import accuracy_score\n",
        "import pandas as pd\n",
        "from sklearn.metrics import roc_auc_score, confusion_matrix\n",
        "from sklearn.linear_model import LogisticRegression\n",
        "from sklearn.model_selection import cross_val_score\n",
        "\n",
        "# LDA to reduce the dimension to number of class - 1\n",
        "lda = LinearDiscriminantAnalysis(n_components = 4)\n",
        "X_train_lda = lda.fit_transform(X_train, Y_train)\n",
        "X_val_lda = lda.transform(X_val)\n",
        "\n",
        "# Logistic Regression with L1 regularization\n",
        "# [0.001, 0.01, 0.1, 1]\n",
        "classifier_l1 = LogisticRegression(penalty='l1', C=1 , solver='liblinear')\n",
        "classifier_l1.fit(X_train_lda, Y_train)\n",
        "\n",
        "# training accuracy\n",
        "y_pred = classifier_l1.predict(X_train_lda)\n",
        "# evaluate the performance of the classifier\n",
        "accuracy = accuracy_score(Y_train, y_pred)\n",
        "print(\"training accuracy:\", accuracy)\n",
        "\n",
        "cv_scores = cross_val_score(classifier_l1, X_train_lda, Y_train, cv=5)\n",
        "print(\"cross-val accuracy:\", cv_scores.mean())\n",
        "\n",
        "# before grid search\n",
        "# n_componentsint = 4\n",
        "# training accuracy: 0.8975\n",
        "# cross-val accuracy: 0.8924999999999998\n",
        "\n",
        "# n_componentsint = 3\n",
        "# training accuracy: 0.884\n",
        "# cross-val accuracy: 0.882"
      ],
      "metadata": {
        "colab": {
          "base_uri": "https://localhost:8080/"
        },
        "id": "_JM1gO2IPe3h",
        "outputId": "4b3feb0c-ae99-4c5e-d369-a28dfef2518b"
      },
      "execution_count": 22,
      "outputs": [
        {
          "output_type": "stream",
          "name": "stdout",
          "text": [
            "training accuracy: 0.8647921029015854\n",
            "cross-val accuracy: 0.8647897031050007\n"
          ]
        }
      ]
    },
    {
      "cell_type": "code",
      "source": [
        "import matplotlib.pyplot as plt\n",
        "import seaborn as sns\n",
        "\n",
        "# Compute confusion matrixy\n",
        "conf_matrix_val = confusion_matrix(Y_train, classifier_l1.predict(X_train_lda))\n",
        "conf_matrix_train = confusion_matrix(Y_val, classifier_l1.predict(X_val_lda))\n",
        "\n",
        "# Plot confusion matrix\n",
        "plt.figure(figsize=(8, 6))\n",
        "sns.heatmap(conf_matrix_train, annot=True, cmap='Blues', fmt='g', cbar=False)\n",
        "plt.xlabel('Predicted')\n",
        "plt.ylabel('True')\n",
        "plt.title('Confusion Matrix')\n",
        "plt.show()\n",
        "\n",
        "# Plot confusion matrix\n",
        "plt.figure(figsize=(8, 6))\n",
        "sns.heatmap(conf_matrix_val, annot=True, cmap='Blues', fmt='g', cbar=False)\n",
        "plt.xlabel('Predicted')\n",
        "plt.ylabel('True')\n",
        "plt.title('Confusion Matrix')\n",
        "plt.show()\n",
        "\n",
        "\n",
        "print(conf_matrix_train)\n",
        "print(conf_matrix_val)"
      ],
      "metadata": {
        "id": "xQRiARoTQhNi"
      },
      "execution_count": null,
      "outputs": []
    },
    {
      "cell_type": "markdown",
      "source": [
        "SVM, cross validation"
      ],
      "metadata": {
        "id": "GWBf830sRI7j"
      }
    },
    {
      "cell_type": "code",
      "source": [
        "from sklearn.svm import SVC\n",
        "from sklearn.metrics import accuracy_score, classification_report\n",
        "from sklearn.model_selection import train_test_split\n",
        "from sklearn.model_selection import cross_val_score\n",
        "\n",
        "# train the SVM classifier\n",
        "# C is a hyperparameter that controls the trade-off between maximizing the margin and minimizing the classification error.\n",
        "# C represents the inverse of the regularization strength—smaller, C implies more regularization, larger, C implies less regularization\n",
        "# poly, rbf, linear\n",
        "svm_classifier = SVC(kernel='rbf', C=5, gamma=0.001)\n",
        "svm_classifier.fit(X_train, Y_train)\n",
        "\n",
        "# training accuracy\n",
        "y_pred = svm_classifier.predict(X_train)\n",
        "# evaluate the performance of the classifier\n",
        "accuracy = accuracy_score(Y_train, y_pred)\n",
        "print(\"training accuracy:\", accuracy)\n",
        "\n",
        "cv_scores = cross_val_score(svm_classifier, X_train, Y_train, cv=5)\n",
        "print(\"cross-val accuracy:\", cv_scores.mean())\n",
        "\n",
        "# before grid search C = 1\n",
        "# training accuracy: 0.9875\n",
        "# cross-val accuracy: 0.7090000000000001"
      ],
      "metadata": {
        "colab": {
          "base_uri": "https://localhost:8080/"
        },
        "id": "umqRCkNJRJ4g",
        "outputId": "7eb152bd-4ac9-4e78-a747-b48deb17e836"
      },
      "execution_count": 24,
      "outputs": [
        {
          "output_type": "stream",
          "name": "stdout",
          "text": [
            "training accuracy: 0.9796589889320969\n",
            "cross-val accuracy: 0.7720599160423547\n"
          ]
        }
      ]
    },
    {
      "cell_type": "code",
      "source": [
        "import matplotlib.pyplot as plt\n",
        "import seaborn as sns\n",
        "\n",
        "# Compute confusion matrixy\n",
        "conf_matrix_val = confusion_matrix(Y_train, svm_classifier.predict(X_train))\n",
        "conf_matrix_train = confusion_matrix(Y_val, svm_classifier.predict(X_val))\n",
        "\n",
        "# Plot confusion matrix\n",
        "plt.figure(figsize=(8, 6))\n",
        "sns.heatmap(conf_matrix_train, annot=True, cmap='Blues', fmt='g', cbar=False)\n",
        "plt.xlabel('Predicted')\n",
        "plt.ylabel('True')\n",
        "plt.title('Confusion Matrix')\n",
        "plt.show()\n",
        "\n",
        "# Plot confusion matrix\n",
        "plt.figure(figsize=(8, 6))\n",
        "sns.heatmap(conf_matrix_val, annot=True, cmap='Blues', fmt='g', cbar=False)\n",
        "plt.xlabel('Predicted')\n",
        "plt.ylabel('True')\n",
        "plt.title('Confusion Matrix')\n",
        "plt.show()\n",
        "\n",
        "print(conf_matrix_train)\n",
        "print(conf_matrix_val)"
      ],
      "metadata": {
        "id": "divzOO7RRUEk"
      },
      "execution_count": null,
      "outputs": []
    },
    {
      "cell_type": "markdown",
      "source": [
        "Test"
      ],
      "metadata": {
        "id": "3806HRpfryZN"
      }
    },
    {
      "cell_type": "markdown",
      "source": [
        "pipeline resnet"
      ],
      "metadata": {
        "id": "efaPxAg-spmQ"
      }
    },
    {
      "cell_type": "code",
      "source": [
        "# val data\n",
        "import pandas as pd\n",
        "csv_file_path = '/content/drive/MyDrive/galaxy_zoo/test_data_2.csv'\n",
        "column_names = ['path', 'index', 'label']\n",
        "df_test = pd.read_csv(csv_file_path, names=column_names)\n",
        "df_test = df_test.iloc[1:]\n",
        "df_test = df_test.reset_index(drop=True)\n",
        "print(df_test.shape)"
      ],
      "metadata": {
        "id": "92Mk_byXrzPJ",
        "outputId": "505450b7-3c8f-4ad8-bf54-ca01724355e1",
        "colab": {
          "base_uri": "https://localhost:8080/"
        }
      },
      "execution_count": 26,
      "outputs": [
        {
          "output_type": "stream",
          "name": "stdout",
          "text": [
            "(418, 3)\n"
          ]
        }
      ]
    },
    {
      "cell_type": "code",
      "source": [
        "images_list_nopreprocess_test = preprocess_resnet_nopreprocess(df_test)\n",
        "print(len(images_list_nopreprocess_test))"
      ],
      "metadata": {
        "id": "1JohttW1sF6h",
        "outputId": "7c497d6f-6236-4b56-bdaa-1a25508dfe71",
        "colab": {
          "base_uri": "https://localhost:8080/"
        }
      },
      "execution_count": 27,
      "outputs": [
        {
          "output_type": "stream",
          "name": "stdout",
          "text": [
            "418\n"
          ]
        }
      ]
    },
    {
      "cell_type": "code",
      "source": [
        "# test\n",
        "custom_dataset_test = CustomDataset(images_list_nopreprocess_test, transform=transform)\n",
        "\n",
        "# create a data loader with batch size\n",
        "batch_size = 8\n",
        "data_loader = DataLoader(custom_dataset_test, batch_size=batch_size, shuffle=False)\n",
        "\n",
        "# Process images in batches\n",
        "features_list = []\n",
        "with torch.no_grad():\n",
        "    for batch in data_loader:\n",
        "        features_test = resnet(batch.to(device))\n",
        "        features_list.append(features_test)\n",
        "\n",
        "# Concatenate features from all batches\n",
        "features_test = torch.cat(features_list, dim=0)\n",
        "\n",
        "print(features_test.shape)"
      ],
      "metadata": {
        "id": "EjXPUUnYsGYq",
        "outputId": "8d9b193b-1506-4e10-d4ea-37178723e673",
        "colab": {
          "base_uri": "https://localhost:8080/"
        }
      },
      "execution_count": 31,
      "outputs": [
        {
          "output_type": "stream",
          "name": "stdout",
          "text": [
            "torch.Size([418, 2048, 1, 1])\n"
          ]
        }
      ]
    },
    {
      "cell_type": "code",
      "source": [
        "import pandas as pd\n",
        "\n",
        "features_test = features_test.cpu()\n",
        "# reshape it to 2000,2048\n",
        "reshaped_features_test = features_test.squeeze().numpy()\n",
        "reshaped_features_test = reshaped_features_test.reshape(reshaped_features_test.shape[0], -1)\n",
        "# Convert to DataFrame\n",
        "df_features_test = pd.DataFrame(reshaped_features_test)\n",
        "# Display the DataFrame\n",
        "print(df_features_test.shape)\n",
        "df_features_test.head(3)"
      ],
      "metadata": {
        "id": "nLw06UVksGct",
        "outputId": "86f56df6-dc9b-4b08-cba9-b6cc5da96da1",
        "colab": {
          "base_uri": "https://localhost:8080/",
          "height": 191
        }
      },
      "execution_count": 32,
      "outputs": [
        {
          "output_type": "stream",
          "name": "stdout",
          "text": [
            "(418, 2048)\n"
          ]
        },
        {
          "output_type": "execute_result",
          "data": {
            "text/plain": [
              "       0         1         2         3         4         5         6     \\\n",
              "0  0.071567  0.218002  0.303137  0.451786  1.085515  0.745166  0.511673   \n",
              "1  0.628641  0.252510  0.865765  0.237013  0.123498  0.903182  0.093575   \n",
              "2  0.194194  0.749070  0.071209  0.164099  0.750281  0.660138  0.388318   \n",
              "\n",
              "       7         8         9     ...      2038      2039      2040      2041  \\\n",
              "0  0.738938  0.439530  0.236897  ...  0.115883  0.393557  0.133479  0.044335   \n",
              "1  0.110275  0.580228  0.752296  ...  0.071696  0.531129  0.552846  0.577516   \n",
              "2  0.694890  0.953955  0.188141  ...  0.752394  0.416715  0.113439  0.304978   \n",
              "\n",
              "       2042      2043      2044      2045      2046      2047  \n",
              "0  0.356906  0.135800  0.398717  0.183099  0.060696  0.263499  \n",
              "1  0.318722  0.302598  0.295424  0.242394  0.763206  0.748571  \n",
              "2  0.600702  0.199066  0.200566  0.119543  0.305480  0.528809  \n",
              "\n",
              "[3 rows x 2048 columns]"
            ],
            "text/html": [
              "\n",
              "  <div id=\"df-4e13bcb7-3d0f-4565-82e9-5f740187d8e8\" class=\"colab-df-container\">\n",
              "    <div>\n",
              "<style scoped>\n",
              "    .dataframe tbody tr th:only-of-type {\n",
              "        vertical-align: middle;\n",
              "    }\n",
              "\n",
              "    .dataframe tbody tr th {\n",
              "        vertical-align: top;\n",
              "    }\n",
              "\n",
              "    .dataframe thead th {\n",
              "        text-align: right;\n",
              "    }\n",
              "</style>\n",
              "<table border=\"1\" class=\"dataframe\">\n",
              "  <thead>\n",
              "    <tr style=\"text-align: right;\">\n",
              "      <th></th>\n",
              "      <th>0</th>\n",
              "      <th>1</th>\n",
              "      <th>2</th>\n",
              "      <th>3</th>\n",
              "      <th>4</th>\n",
              "      <th>5</th>\n",
              "      <th>6</th>\n",
              "      <th>7</th>\n",
              "      <th>8</th>\n",
              "      <th>9</th>\n",
              "      <th>...</th>\n",
              "      <th>2038</th>\n",
              "      <th>2039</th>\n",
              "      <th>2040</th>\n",
              "      <th>2041</th>\n",
              "      <th>2042</th>\n",
              "      <th>2043</th>\n",
              "      <th>2044</th>\n",
              "      <th>2045</th>\n",
              "      <th>2046</th>\n",
              "      <th>2047</th>\n",
              "    </tr>\n",
              "  </thead>\n",
              "  <tbody>\n",
              "    <tr>\n",
              "      <th>0</th>\n",
              "      <td>0.071567</td>\n",
              "      <td>0.218002</td>\n",
              "      <td>0.303137</td>\n",
              "      <td>0.451786</td>\n",
              "      <td>1.085515</td>\n",
              "      <td>0.745166</td>\n",
              "      <td>0.511673</td>\n",
              "      <td>0.738938</td>\n",
              "      <td>0.439530</td>\n",
              "      <td>0.236897</td>\n",
              "      <td>...</td>\n",
              "      <td>0.115883</td>\n",
              "      <td>0.393557</td>\n",
              "      <td>0.133479</td>\n",
              "      <td>0.044335</td>\n",
              "      <td>0.356906</td>\n",
              "      <td>0.135800</td>\n",
              "      <td>0.398717</td>\n",
              "      <td>0.183099</td>\n",
              "      <td>0.060696</td>\n",
              "      <td>0.263499</td>\n",
              "    </tr>\n",
              "    <tr>\n",
              "      <th>1</th>\n",
              "      <td>0.628641</td>\n",
              "      <td>0.252510</td>\n",
              "      <td>0.865765</td>\n",
              "      <td>0.237013</td>\n",
              "      <td>0.123498</td>\n",
              "      <td>0.903182</td>\n",
              "      <td>0.093575</td>\n",
              "      <td>0.110275</td>\n",
              "      <td>0.580228</td>\n",
              "      <td>0.752296</td>\n",
              "      <td>...</td>\n",
              "      <td>0.071696</td>\n",
              "      <td>0.531129</td>\n",
              "      <td>0.552846</td>\n",
              "      <td>0.577516</td>\n",
              "      <td>0.318722</td>\n",
              "      <td>0.302598</td>\n",
              "      <td>0.295424</td>\n",
              "      <td>0.242394</td>\n",
              "      <td>0.763206</td>\n",
              "      <td>0.748571</td>\n",
              "    </tr>\n",
              "    <tr>\n",
              "      <th>2</th>\n",
              "      <td>0.194194</td>\n",
              "      <td>0.749070</td>\n",
              "      <td>0.071209</td>\n",
              "      <td>0.164099</td>\n",
              "      <td>0.750281</td>\n",
              "      <td>0.660138</td>\n",
              "      <td>0.388318</td>\n",
              "      <td>0.694890</td>\n",
              "      <td>0.953955</td>\n",
              "      <td>0.188141</td>\n",
              "      <td>...</td>\n",
              "      <td>0.752394</td>\n",
              "      <td>0.416715</td>\n",
              "      <td>0.113439</td>\n",
              "      <td>0.304978</td>\n",
              "      <td>0.600702</td>\n",
              "      <td>0.199066</td>\n",
              "      <td>0.200566</td>\n",
              "      <td>0.119543</td>\n",
              "      <td>0.305480</td>\n",
              "      <td>0.528809</td>\n",
              "    </tr>\n",
              "  </tbody>\n",
              "</table>\n",
              "<p>3 rows × 2048 columns</p>\n",
              "</div>\n",
              "    <div class=\"colab-df-buttons\">\n",
              "\n",
              "  <div class=\"colab-df-container\">\n",
              "    <button class=\"colab-df-convert\" onclick=\"convertToInteractive('df-4e13bcb7-3d0f-4565-82e9-5f740187d8e8')\"\n",
              "            title=\"Convert this dataframe to an interactive table.\"\n",
              "            style=\"display:none;\">\n",
              "\n",
              "  <svg xmlns=\"http://www.w3.org/2000/svg\" height=\"24px\" viewBox=\"0 -960 960 960\">\n",
              "    <path d=\"M120-120v-720h720v720H120Zm60-500h600v-160H180v160Zm220 220h160v-160H400v160Zm0 220h160v-160H400v160ZM180-400h160v-160H180v160Zm440 0h160v-160H620v160ZM180-180h160v-160H180v160Zm440 0h160v-160H620v160Z\"/>\n",
              "  </svg>\n",
              "    </button>\n",
              "\n",
              "  <style>\n",
              "    .colab-df-container {\n",
              "      display:flex;\n",
              "      gap: 12px;\n",
              "    }\n",
              "\n",
              "    .colab-df-convert {\n",
              "      background-color: #E8F0FE;\n",
              "      border: none;\n",
              "      border-radius: 50%;\n",
              "      cursor: pointer;\n",
              "      display: none;\n",
              "      fill: #1967D2;\n",
              "      height: 32px;\n",
              "      padding: 0 0 0 0;\n",
              "      width: 32px;\n",
              "    }\n",
              "\n",
              "    .colab-df-convert:hover {\n",
              "      background-color: #E2EBFA;\n",
              "      box-shadow: 0px 1px 2px rgba(60, 64, 67, 0.3), 0px 1px 3px 1px rgba(60, 64, 67, 0.15);\n",
              "      fill: #174EA6;\n",
              "    }\n",
              "\n",
              "    .colab-df-buttons div {\n",
              "      margin-bottom: 4px;\n",
              "    }\n",
              "\n",
              "    [theme=dark] .colab-df-convert {\n",
              "      background-color: #3B4455;\n",
              "      fill: #D2E3FC;\n",
              "    }\n",
              "\n",
              "    [theme=dark] .colab-df-convert:hover {\n",
              "      background-color: #434B5C;\n",
              "      box-shadow: 0px 1px 3px 1px rgba(0, 0, 0, 0.15);\n",
              "      filter: drop-shadow(0px 1px 2px rgba(0, 0, 0, 0.3));\n",
              "      fill: #FFFFFF;\n",
              "    }\n",
              "  </style>\n",
              "\n",
              "    <script>\n",
              "      const buttonEl =\n",
              "        document.querySelector('#df-4e13bcb7-3d0f-4565-82e9-5f740187d8e8 button.colab-df-convert');\n",
              "      buttonEl.style.display =\n",
              "        google.colab.kernel.accessAllowed ? 'block' : 'none';\n",
              "\n",
              "      async function convertToInteractive(key) {\n",
              "        const element = document.querySelector('#df-4e13bcb7-3d0f-4565-82e9-5f740187d8e8');\n",
              "        const dataTable =\n",
              "          await google.colab.kernel.invokeFunction('convertToInteractive',\n",
              "                                                    [key], {});\n",
              "        if (!dataTable) return;\n",
              "\n",
              "        const docLinkHtml = 'Like what you see? Visit the ' +\n",
              "          '<a target=\"_blank\" href=https://colab.research.google.com/notebooks/data_table.ipynb>data table notebook</a>'\n",
              "          + ' to learn more about interactive tables.';\n",
              "        element.innerHTML = '';\n",
              "        dataTable['output_type'] = 'display_data';\n",
              "        await google.colab.output.renderOutput(dataTable, element);\n",
              "        const docLink = document.createElement('div');\n",
              "        docLink.innerHTML = docLinkHtml;\n",
              "        element.appendChild(docLink);\n",
              "      }\n",
              "    </script>\n",
              "  </div>\n",
              "\n",
              "\n",
              "<div id=\"df-4e1ab9c9-06aa-4a40-9c15-0f1547bd0a13\">\n",
              "  <button class=\"colab-df-quickchart\" onclick=\"quickchart('df-4e1ab9c9-06aa-4a40-9c15-0f1547bd0a13')\"\n",
              "            title=\"Suggest charts\"\n",
              "            style=\"display:none;\">\n",
              "\n",
              "<svg xmlns=\"http://www.w3.org/2000/svg\" height=\"24px\"viewBox=\"0 0 24 24\"\n",
              "     width=\"24px\">\n",
              "    <g>\n",
              "        <path d=\"M19 3H5c-1.1 0-2 .9-2 2v14c0 1.1.9 2 2 2h14c1.1 0 2-.9 2-2V5c0-1.1-.9-2-2-2zM9 17H7v-7h2v7zm4 0h-2V7h2v10zm4 0h-2v-4h2v4z\"/>\n",
              "    </g>\n",
              "</svg>\n",
              "  </button>\n",
              "\n",
              "<style>\n",
              "  .colab-df-quickchart {\n",
              "      --bg-color: #E8F0FE;\n",
              "      --fill-color: #1967D2;\n",
              "      --hover-bg-color: #E2EBFA;\n",
              "      --hover-fill-color: #174EA6;\n",
              "      --disabled-fill-color: #AAA;\n",
              "      --disabled-bg-color: #DDD;\n",
              "  }\n",
              "\n",
              "  [theme=dark] .colab-df-quickchart {\n",
              "      --bg-color: #3B4455;\n",
              "      --fill-color: #D2E3FC;\n",
              "      --hover-bg-color: #434B5C;\n",
              "      --hover-fill-color: #FFFFFF;\n",
              "      --disabled-bg-color: #3B4455;\n",
              "      --disabled-fill-color: #666;\n",
              "  }\n",
              "\n",
              "  .colab-df-quickchart {\n",
              "    background-color: var(--bg-color);\n",
              "    border: none;\n",
              "    border-radius: 50%;\n",
              "    cursor: pointer;\n",
              "    display: none;\n",
              "    fill: var(--fill-color);\n",
              "    height: 32px;\n",
              "    padding: 0;\n",
              "    width: 32px;\n",
              "  }\n",
              "\n",
              "  .colab-df-quickchart:hover {\n",
              "    background-color: var(--hover-bg-color);\n",
              "    box-shadow: 0 1px 2px rgba(60, 64, 67, 0.3), 0 1px 3px 1px rgba(60, 64, 67, 0.15);\n",
              "    fill: var(--button-hover-fill-color);\n",
              "  }\n",
              "\n",
              "  .colab-df-quickchart-complete:disabled,\n",
              "  .colab-df-quickchart-complete:disabled:hover {\n",
              "    background-color: var(--disabled-bg-color);\n",
              "    fill: var(--disabled-fill-color);\n",
              "    box-shadow: none;\n",
              "  }\n",
              "\n",
              "  .colab-df-spinner {\n",
              "    border: 2px solid var(--fill-color);\n",
              "    border-color: transparent;\n",
              "    border-bottom-color: var(--fill-color);\n",
              "    animation:\n",
              "      spin 1s steps(1) infinite;\n",
              "  }\n",
              "\n",
              "  @keyframes spin {\n",
              "    0% {\n",
              "      border-color: transparent;\n",
              "      border-bottom-color: var(--fill-color);\n",
              "      border-left-color: var(--fill-color);\n",
              "    }\n",
              "    20% {\n",
              "      border-color: transparent;\n",
              "      border-left-color: var(--fill-color);\n",
              "      border-top-color: var(--fill-color);\n",
              "    }\n",
              "    30% {\n",
              "      border-color: transparent;\n",
              "      border-left-color: var(--fill-color);\n",
              "      border-top-color: var(--fill-color);\n",
              "      border-right-color: var(--fill-color);\n",
              "    }\n",
              "    40% {\n",
              "      border-color: transparent;\n",
              "      border-right-color: var(--fill-color);\n",
              "      border-top-color: var(--fill-color);\n",
              "    }\n",
              "    60% {\n",
              "      border-color: transparent;\n",
              "      border-right-color: var(--fill-color);\n",
              "    }\n",
              "    80% {\n",
              "      border-color: transparent;\n",
              "      border-right-color: var(--fill-color);\n",
              "      border-bottom-color: var(--fill-color);\n",
              "    }\n",
              "    90% {\n",
              "      border-color: transparent;\n",
              "      border-bottom-color: var(--fill-color);\n",
              "    }\n",
              "  }\n",
              "</style>\n",
              "\n",
              "  <script>\n",
              "    async function quickchart(key) {\n",
              "      const quickchartButtonEl =\n",
              "        document.querySelector('#' + key + ' button');\n",
              "      quickchartButtonEl.disabled = true;  // To prevent multiple clicks.\n",
              "      quickchartButtonEl.classList.add('colab-df-spinner');\n",
              "      try {\n",
              "        const charts = await google.colab.kernel.invokeFunction(\n",
              "            'suggestCharts', [key], {});\n",
              "      } catch (error) {\n",
              "        console.error('Error during call to suggestCharts:', error);\n",
              "      }\n",
              "      quickchartButtonEl.classList.remove('colab-df-spinner');\n",
              "      quickchartButtonEl.classList.add('colab-df-quickchart-complete');\n",
              "    }\n",
              "    (() => {\n",
              "      let quickchartButtonEl =\n",
              "        document.querySelector('#df-4e1ab9c9-06aa-4a40-9c15-0f1547bd0a13 button');\n",
              "      quickchartButtonEl.style.display =\n",
              "        google.colab.kernel.accessAllowed ? 'block' : 'none';\n",
              "    })();\n",
              "  </script>\n",
              "</div>\n",
              "    </div>\n",
              "  </div>\n"
            ],
            "application/vnd.google.colaboratory.intrinsic+json": {
              "type": "dataframe",
              "variable_name": "df_features_test"
            }
          },
          "metadata": {},
          "execution_count": 32
        }
      ]
    },
    {
      "cell_type": "code",
      "source": [
        "test_features = df_features_test.values\n",
        "top_components = 100\n",
        "\n",
        "resnet_test_pca_feature = pick_top_feature_pca_val_test(pca_train_resnet, test_features, top_components)\n",
        "df_top_100_feature_pca_resnet_test = pd.DataFrame(resnet_test_pca_feature)\n",
        "df_top_100_feature_pca_resnet_test.head(3)"
      ],
      "metadata": {
        "id": "7dWdrcEvsGkK"
      },
      "execution_count": null,
      "outputs": []
    },
    {
      "cell_type": "code",
      "source": [
        "Y_test_resnet = df_test['label']\n",
        "X_test_resnet = resnet_test_pca_feature\n",
        "print(X_test_resnet.shape)"
      ],
      "metadata": {
        "id": "cEQGORW8sOql"
      },
      "execution_count": null,
      "outputs": []
    },
    {
      "cell_type": "markdown",
      "source": [
        "pipeline1"
      ],
      "metadata": {
        "id": "CyMfJXprsn2N"
      }
    },
    {
      "cell_type": "code",
      "source": [
        "with open(\"codebook.npy\", \"rb\") as f:\n",
        "\tcodebook = np.load(f)\n",
        "preprocessed_features_test = preprocess_1(df_test, codebook=codebook)\n",
        "preprocessed_features_test.shape"
      ],
      "metadata": {
        "id": "i0aIfFBYsOti"
      },
      "execution_count": null,
      "outputs": []
    },
    {
      "cell_type": "code",
      "source": [
        "Y_val_pipeline1 = df_test['label']\n",
        "max_test = np.max(preprocessed_features_test, axis=1)\n",
        "vector_representations_normalized_test = preprocessed_features_test / max_test[:, np.newaxis]\n",
        "x_test_pipeline1 = vector_representations_normalized_test"
      ],
      "metadata": {
        "id": "NtpRZ56VsOwB"
      },
      "execution_count": null,
      "outputs": []
    },
    {
      "cell_type": "markdown",
      "source": [
        "pipeline 2"
      ],
      "metadata": {
        "id": "9npXMdOEtGri"
      }
    },
    {
      "cell_type": "code",
      "source": [
        "df_preprocessed_2_test = preprocess_2(df_test)\n",
        "df_preprocessed_2_test.columns = [f'feature_{i}' for i in range(len(df_preprocessed_2_test.columns))]\n",
        "print(df_preprocessed_2_test.shape)"
      ],
      "metadata": {
        "id": "j6o20urPsOy_"
      },
      "execution_count": null,
      "outputs": []
    },
    {
      "cell_type": "code",
      "source": [
        "test_features = df_preprocessed_2_test.values\n",
        "top_components = 200\n",
        "\n",
        "hog_test_pca_feature = pick_top_feature_pca_val_test(pca_train_hog, test_features, top_components)\n",
        "df_top_100_feature_pca_hog_test = pd.DataFrame(hog_test_pca_feature)\n",
        "df_top_100_feature_pca_hog_test.head(3)"
      ],
      "metadata": {
        "id": "lPeaGHRItH9w"
      },
      "execution_count": null,
      "outputs": []
    },
    {
      "cell_type": "code",
      "source": [
        "df_top_100_feature_pca_hog_test_normalized = feature_normalization(df_top_100_feature_pca_hog_test)"
      ],
      "metadata": {
        "id": "AZ_PEdmltIXD"
      },
      "execution_count": null,
      "outputs": []
    },
    {
      "cell_type": "code",
      "source": [
        "X_test_hog = df_top_100_feature_pca_hog_test_normalized.values"
      ],
      "metadata": {
        "id": "1YLskHd4tIZN"
      },
      "execution_count": null,
      "outputs": []
    },
    {
      "cell_type": "code",
      "source": [
        "print(x_test_pipeline1.shape, X_test_hog.shape, resnet_test_pca_feature.shape)"
      ],
      "metadata": {
        "id": "rFiHmt7utnyU"
      },
      "execution_count": null,
      "outputs": []
    },
    {
      "cell_type": "code",
      "source": [
        "Y_test = df_test['label']\n",
        "\n",
        "X_test = np.hstack([x_test_pipeline1, X_test_hog, resnet_test_pca_feature])\n",
        "print(X_test.shape, Y_test.shape)"
      ],
      "metadata": {
        "id": "6mN6KFqGtvXK"
      },
      "execution_count": null,
      "outputs": []
    },
    {
      "cell_type": "code",
      "source": [
        "# test accuracy\n",
        "X_test_lda = lda.transform(X_test)\n",
        "y_pred_test = classifier_l1.predict(X_test_lda)\n",
        "# evaluate the performance of the classifier\n",
        "accuracy = accuracy_score(Y_test, y_pred_test)\n",
        "print(\"test accuracy:\", accuracy)"
      ],
      "metadata": {
        "id": "veE-c-UUyPkw"
      },
      "execution_count": null,
      "outputs": []
    },
    {
      "cell_type": "code",
      "source": [
        "# test accuracy\n",
        "\n",
        "y_pred_test = svm_classifier.predict(X_test)\n",
        "# evaluate the performance of the classifier\n",
        "accuracy = accuracy_score(Y_test, y_pred_test)\n",
        "print(\"test accuracy:\", accuracy)\n",
        "\n",
        "\n",
        "# for data set having 2000 examples\n",
        "\"\"\"\n",
        "data set: reduced, 2000 examples, 500 for each\n",
        "  -LDA + regression\n",
        "    training accuracy: 0.8975\n",
        "    cross-val accuracy: 0.8924999999999998\n",
        "    testing accuracy: 0.708\n",
        "    confusion matrix:\n",
        "\n",
        "\n",
        "  -SVM\n",
        "    training accuracy: 0.9845\n",
        "    cross-val accuracy: 0.726\n",
        "    testing accuracy: 0.712\n",
        "    confusion matrix:\n",
        "\n",
        "\n",
        "\n",
        "data set 2\n",
        "  -LDA + regression\n",
        "    training accuracy: 0.86479\n",
        "    cross-val accuracy: 0.8648\n",
        "    testing accuracy:\n",
        "    confusion matrix:\n",
        "\n",
        "\n",
        "  -SVM\n",
        "    training accuracy: 0.9797\n",
        "    cross-val accuracy: 0.7721\n",
        "    testing accuracy:\n",
        "    confusion matrix:\n",
        "\n",
        "\n",
        "\"\"\"\n",
        "\n",
        "# check confusion matrix"
      ],
      "metadata": {
        "id": "WNax4CDUuAHW"
      },
      "execution_count": null,
      "outputs": []
    }
  ]
}