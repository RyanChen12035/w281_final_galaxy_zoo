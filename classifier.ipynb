{
  "nbformat": 4,
  "nbformat_minor": 0,
  "metadata": {
    "colab": {
      "provenance": [],
      "authorship_tag": "ABX9TyOKu2LeWcpMWu+yHJNu6Ogo",
      "include_colab_link": true
    },
    "kernelspec": {
      "name": "python3",
      "display_name": "Python 3"
    },
    "language_info": {
      "name": "python"
    }
  },
  "cells": [
    {
      "cell_type": "markdown",
      "metadata": {
        "id": "view-in-github",
        "colab_type": "text"
      },
      "source": [
        "<a href=\"https://colab.research.google.com/github/RyanChen12035/w281_final_galaxy_zoo/blob/main/classifier.ipynb\" target=\"_parent\"><img src=\"https://colab.research.google.com/assets/colab-badge.svg\" alt=\"Open In Colab\"/></a>"
      ]
    },
    {
      "cell_type": "code",
      "execution_count": 1,
      "metadata": {
        "colab": {
          "base_uri": "https://localhost:8080/"
        },
        "id": "zJ19f2HtagKl",
        "outputId": "080129e4-e437-42ae-80f7-72f4144e5ddb"
      },
      "outputs": [
        {
          "output_type": "stream",
          "name": "stdout",
          "text": [
            "Mounted at /content/drive\n"
          ]
        }
      ],
      "source": [
        "from google.colab import drive\n",
        "\n",
        "# mount Google Drive\n",
        "drive.mount('/content/drive')"
      ]
    },
    {
      "cell_type": "code",
      "source": [
        "# copy the filters from ex7\n",
        "import numpy as np\n",
        "import matplotlib.pyplot as plt\n",
        "import cv2\n",
        "import os\n",
        "import math\n",
        "from mpl_toolkits.axes_grid1 import make_axes_locatable\n",
        "from PIL import Image\n",
        "import urllib"
      ],
      "metadata": {
        "id": "U65XWBdubqGF"
      },
      "execution_count": 4,
      "outputs": []
    },
    {
      "cell_type": "code",
      "source": [
        "import pandas as pd\n",
        "csv_file_path = '/content/drive/MyDrive/galaxy_zoo/train_data.csv'\n",
        "column_names = ['path', 'index', 'label']\n",
        "df_train = pd.read_csv(csv_file_path, names=column_names)"
      ],
      "metadata": {
        "id": "fOfWJVmRatNc"
      },
      "execution_count": 2,
      "outputs": []
    },
    {
      "cell_type": "code",
      "source": [
        "df_train.tail(5)"
      ],
      "metadata": {
        "colab": {
          "base_uri": "https://localhost:8080/",
          "height": 243
        },
        "id": "Q63OkYXgbXa8",
        "outputId": "72c458bb-78dc-4bdd-c19e-74c7b1274401"
      },
      "execution_count": 6,
      "outputs": [
        {
          "output_type": "execute_result",
          "data": {
            "text/plain": [
              "                                                    path   index   label\n",
              "23053  /content/drive/MyDrive/galaxy_zoo/Train_images...  340940  Class4\n",
              "23054  /content/drive/MyDrive/galaxy_zoo/Train_images...  359896  Class4\n",
              "23055  /content/drive/MyDrive/galaxy_zoo/Train_images...  980317  Class4\n",
              "23056  /content/drive/MyDrive/galaxy_zoo/Train_images...  172625  Class4\n",
              "23057  /content/drive/MyDrive/galaxy_zoo/Train_images...  130055  Class4"
            ],
            "text/html": [
              "\n",
              "  <div id=\"df-0ccf3b8a-3b97-4755-b8f2-9159605ee4bb\" class=\"colab-df-container\">\n",
              "    <div>\n",
              "<style scoped>\n",
              "    .dataframe tbody tr th:only-of-type {\n",
              "        vertical-align: middle;\n",
              "    }\n",
              "\n",
              "    .dataframe tbody tr th {\n",
              "        vertical-align: top;\n",
              "    }\n",
              "\n",
              "    .dataframe thead th {\n",
              "        text-align: right;\n",
              "    }\n",
              "</style>\n",
              "<table border=\"1\" class=\"dataframe\">\n",
              "  <thead>\n",
              "    <tr style=\"text-align: right;\">\n",
              "      <th></th>\n",
              "      <th>path</th>\n",
              "      <th>index</th>\n",
              "      <th>label</th>\n",
              "    </tr>\n",
              "  </thead>\n",
              "  <tbody>\n",
              "    <tr>\n",
              "      <th>23053</th>\n",
              "      <td>/content/drive/MyDrive/galaxy_zoo/Train_images...</td>\n",
              "      <td>340940</td>\n",
              "      <td>Class4</td>\n",
              "    </tr>\n",
              "    <tr>\n",
              "      <th>23054</th>\n",
              "      <td>/content/drive/MyDrive/galaxy_zoo/Train_images...</td>\n",
              "      <td>359896</td>\n",
              "      <td>Class4</td>\n",
              "    </tr>\n",
              "    <tr>\n",
              "      <th>23055</th>\n",
              "      <td>/content/drive/MyDrive/galaxy_zoo/Train_images...</td>\n",
              "      <td>980317</td>\n",
              "      <td>Class4</td>\n",
              "    </tr>\n",
              "    <tr>\n",
              "      <th>23056</th>\n",
              "      <td>/content/drive/MyDrive/galaxy_zoo/Train_images...</td>\n",
              "      <td>172625</td>\n",
              "      <td>Class4</td>\n",
              "    </tr>\n",
              "    <tr>\n",
              "      <th>23057</th>\n",
              "      <td>/content/drive/MyDrive/galaxy_zoo/Train_images...</td>\n",
              "      <td>130055</td>\n",
              "      <td>Class4</td>\n",
              "    </tr>\n",
              "  </tbody>\n",
              "</table>\n",
              "</div>\n",
              "    <div class=\"colab-df-buttons\">\n",
              "\n",
              "  <div class=\"colab-df-container\">\n",
              "    <button class=\"colab-df-convert\" onclick=\"convertToInteractive('df-0ccf3b8a-3b97-4755-b8f2-9159605ee4bb')\"\n",
              "            title=\"Convert this dataframe to an interactive table.\"\n",
              "            style=\"display:none;\">\n",
              "\n",
              "  <svg xmlns=\"http://www.w3.org/2000/svg\" height=\"24px\" viewBox=\"0 -960 960 960\">\n",
              "    <path d=\"M120-120v-720h720v720H120Zm60-500h600v-160H180v160Zm220 220h160v-160H400v160Zm0 220h160v-160H400v160ZM180-400h160v-160H180v160Zm440 0h160v-160H620v160ZM180-180h160v-160H180v160Zm440 0h160v-160H620v160Z\"/>\n",
              "  </svg>\n",
              "    </button>\n",
              "\n",
              "  <style>\n",
              "    .colab-df-container {\n",
              "      display:flex;\n",
              "      gap: 12px;\n",
              "    }\n",
              "\n",
              "    .colab-df-convert {\n",
              "      background-color: #E8F0FE;\n",
              "      border: none;\n",
              "      border-radius: 50%;\n",
              "      cursor: pointer;\n",
              "      display: none;\n",
              "      fill: #1967D2;\n",
              "      height: 32px;\n",
              "      padding: 0 0 0 0;\n",
              "      width: 32px;\n",
              "    }\n",
              "\n",
              "    .colab-df-convert:hover {\n",
              "      background-color: #E2EBFA;\n",
              "      box-shadow: 0px 1px 2px rgba(60, 64, 67, 0.3), 0px 1px 3px 1px rgba(60, 64, 67, 0.15);\n",
              "      fill: #174EA6;\n",
              "    }\n",
              "\n",
              "    .colab-df-buttons div {\n",
              "      margin-bottom: 4px;\n",
              "    }\n",
              "\n",
              "    [theme=dark] .colab-df-convert {\n",
              "      background-color: #3B4455;\n",
              "      fill: #D2E3FC;\n",
              "    }\n",
              "\n",
              "    [theme=dark] .colab-df-convert:hover {\n",
              "      background-color: #434B5C;\n",
              "      box-shadow: 0px 1px 3px 1px rgba(0, 0, 0, 0.15);\n",
              "      filter: drop-shadow(0px 1px 2px rgba(0, 0, 0, 0.3));\n",
              "      fill: #FFFFFF;\n",
              "    }\n",
              "  </style>\n",
              "\n",
              "    <script>\n",
              "      const buttonEl =\n",
              "        document.querySelector('#df-0ccf3b8a-3b97-4755-b8f2-9159605ee4bb button.colab-df-convert');\n",
              "      buttonEl.style.display =\n",
              "        google.colab.kernel.accessAllowed ? 'block' : 'none';\n",
              "\n",
              "      async function convertToInteractive(key) {\n",
              "        const element = document.querySelector('#df-0ccf3b8a-3b97-4755-b8f2-9159605ee4bb');\n",
              "        const dataTable =\n",
              "          await google.colab.kernel.invokeFunction('convertToInteractive',\n",
              "                                                    [key], {});\n",
              "        if (!dataTable) return;\n",
              "\n",
              "        const docLinkHtml = 'Like what you see? Visit the ' +\n",
              "          '<a target=\"_blank\" href=https://colab.research.google.com/notebooks/data_table.ipynb>data table notebook</a>'\n",
              "          + ' to learn more about interactive tables.';\n",
              "        element.innerHTML = '';\n",
              "        dataTable['output_type'] = 'display_data';\n",
              "        await google.colab.output.renderOutput(dataTable, element);\n",
              "        const docLink = document.createElement('div');\n",
              "        docLink.innerHTML = docLinkHtml;\n",
              "        element.appendChild(docLink);\n",
              "      }\n",
              "    </script>\n",
              "  </div>\n",
              "\n",
              "\n",
              "<div id=\"df-4f054afe-bfea-4c02-acec-1a4a4e89ca3b\">\n",
              "  <button class=\"colab-df-quickchart\" onclick=\"quickchart('df-4f054afe-bfea-4c02-acec-1a4a4e89ca3b')\"\n",
              "            title=\"Suggest charts\"\n",
              "            style=\"display:none;\">\n",
              "\n",
              "<svg xmlns=\"http://www.w3.org/2000/svg\" height=\"24px\"viewBox=\"0 0 24 24\"\n",
              "     width=\"24px\">\n",
              "    <g>\n",
              "        <path d=\"M19 3H5c-1.1 0-2 .9-2 2v14c0 1.1.9 2 2 2h14c1.1 0 2-.9 2-2V5c0-1.1-.9-2-2-2zM9 17H7v-7h2v7zm4 0h-2V7h2v10zm4 0h-2v-4h2v4z\"/>\n",
              "    </g>\n",
              "</svg>\n",
              "  </button>\n",
              "\n",
              "<style>\n",
              "  .colab-df-quickchart {\n",
              "      --bg-color: #E8F0FE;\n",
              "      --fill-color: #1967D2;\n",
              "      --hover-bg-color: #E2EBFA;\n",
              "      --hover-fill-color: #174EA6;\n",
              "      --disabled-fill-color: #AAA;\n",
              "      --disabled-bg-color: #DDD;\n",
              "  }\n",
              "\n",
              "  [theme=dark] .colab-df-quickchart {\n",
              "      --bg-color: #3B4455;\n",
              "      --fill-color: #D2E3FC;\n",
              "      --hover-bg-color: #434B5C;\n",
              "      --hover-fill-color: #FFFFFF;\n",
              "      --disabled-bg-color: #3B4455;\n",
              "      --disabled-fill-color: #666;\n",
              "  }\n",
              "\n",
              "  .colab-df-quickchart {\n",
              "    background-color: var(--bg-color);\n",
              "    border: none;\n",
              "    border-radius: 50%;\n",
              "    cursor: pointer;\n",
              "    display: none;\n",
              "    fill: var(--fill-color);\n",
              "    height: 32px;\n",
              "    padding: 0;\n",
              "    width: 32px;\n",
              "  }\n",
              "\n",
              "  .colab-df-quickchart:hover {\n",
              "    background-color: var(--hover-bg-color);\n",
              "    box-shadow: 0 1px 2px rgba(60, 64, 67, 0.3), 0 1px 3px 1px rgba(60, 64, 67, 0.15);\n",
              "    fill: var(--button-hover-fill-color);\n",
              "  }\n",
              "\n",
              "  .colab-df-quickchart-complete:disabled,\n",
              "  .colab-df-quickchart-complete:disabled:hover {\n",
              "    background-color: var(--disabled-bg-color);\n",
              "    fill: var(--disabled-fill-color);\n",
              "    box-shadow: none;\n",
              "  }\n",
              "\n",
              "  .colab-df-spinner {\n",
              "    border: 2px solid var(--fill-color);\n",
              "    border-color: transparent;\n",
              "    border-bottom-color: var(--fill-color);\n",
              "    animation:\n",
              "      spin 1s steps(1) infinite;\n",
              "  }\n",
              "\n",
              "  @keyframes spin {\n",
              "    0% {\n",
              "      border-color: transparent;\n",
              "      border-bottom-color: var(--fill-color);\n",
              "      border-left-color: var(--fill-color);\n",
              "    }\n",
              "    20% {\n",
              "      border-color: transparent;\n",
              "      border-left-color: var(--fill-color);\n",
              "      border-top-color: var(--fill-color);\n",
              "    }\n",
              "    30% {\n",
              "      border-color: transparent;\n",
              "      border-left-color: var(--fill-color);\n",
              "      border-top-color: var(--fill-color);\n",
              "      border-right-color: var(--fill-color);\n",
              "    }\n",
              "    40% {\n",
              "      border-color: transparent;\n",
              "      border-right-color: var(--fill-color);\n",
              "      border-top-color: var(--fill-color);\n",
              "    }\n",
              "    60% {\n",
              "      border-color: transparent;\n",
              "      border-right-color: var(--fill-color);\n",
              "    }\n",
              "    80% {\n",
              "      border-color: transparent;\n",
              "      border-right-color: var(--fill-color);\n",
              "      border-bottom-color: var(--fill-color);\n",
              "    }\n",
              "    90% {\n",
              "      border-color: transparent;\n",
              "      border-bottom-color: var(--fill-color);\n",
              "    }\n",
              "  }\n",
              "</style>\n",
              "\n",
              "  <script>\n",
              "    async function quickchart(key) {\n",
              "      const quickchartButtonEl =\n",
              "        document.querySelector('#' + key + ' button');\n",
              "      quickchartButtonEl.disabled = true;  // To prevent multiple clicks.\n",
              "      quickchartButtonEl.classList.add('colab-df-spinner');\n",
              "      try {\n",
              "        const charts = await google.colab.kernel.invokeFunction(\n",
              "            'suggestCharts', [key], {});\n",
              "      } catch (error) {\n",
              "        console.error('Error during call to suggestCharts:', error);\n",
              "      }\n",
              "      quickchartButtonEl.classList.remove('colab-df-spinner');\n",
              "      quickchartButtonEl.classList.add('colab-df-quickchart-complete');\n",
              "    }\n",
              "    (() => {\n",
              "      let quickchartButtonEl =\n",
              "        document.querySelector('#df-4f054afe-bfea-4c02-acec-1a4a4e89ca3b button');\n",
              "      quickchartButtonEl.style.display =\n",
              "        google.colab.kernel.accessAllowed ? 'block' : 'none';\n",
              "    })();\n",
              "  </script>\n",
              "</div>\n",
              "    </div>\n",
              "  </div>\n"
            ],
            "application/vnd.google.colaboratory.intrinsic+json": {
              "type": "dataframe",
              "summary": "{\n  \"name\": \"df_train\",\n  \"rows\": 5,\n  \"fields\": [\n    {\n      \"column\": \"path\",\n      \"properties\": {\n        \"dtype\": \"string\",\n        \"num_unique_values\": 5,\n        \"samples\": [\n          \"/content/drive/MyDrive/galaxy_zoo/Train_images/Train_images/spiral/359896.jpg\",\n          \"/content/drive/MyDrive/galaxy_zoo/Train_images/Train_images/spiral/130055.jpg\",\n          \"/content/drive/MyDrive/galaxy_zoo/Train_images/Train_images/spiral/980317.jpg\"\n        ],\n        \"semantic_type\": \"\",\n        \"description\": \"\"\n      }\n    },\n    {\n      \"column\": \"index\",\n      \"properties\": {\n        \"dtype\": \"string\",\n        \"num_unique_values\": 5,\n        \"samples\": [\n          \"359896\",\n          \"130055\",\n          \"980317\"\n        ],\n        \"semantic_type\": \"\",\n        \"description\": \"\"\n      }\n    },\n    {\n      \"column\": \"label\",\n      \"properties\": {\n        \"dtype\": \"category\",\n        \"num_unique_values\": 1,\n        \"samples\": [\n          \"Class4\"\n        ],\n        \"semantic_type\": \"\",\n        \"description\": \"\"\n      }\n    }\n  ]\n}"
            }
          },
          "metadata": {},
          "execution_count": 6
        }
      ]
    },
    {
      "cell_type": "code",
      "source": [
        "for i in df_train['path'][:5]:\n",
        "  print(i)"
      ],
      "metadata": {
        "colab": {
          "base_uri": "https://localhost:8080/"
        },
        "id": "-Pp67lDfc1Pt",
        "outputId": "b9a1cc5a-3790-4d08-cf04-3b0e2d7a3b18"
      },
      "execution_count": 14,
      "outputs": [
        {
          "output_type": "stream",
          "name": "stdout",
          "text": [
            "path\n",
            "/content/drive/MyDrive/galaxy_zoo/Train_images/Train_images/Cigar-shaped smooth/217327.jpg\n",
            "/content/drive/MyDrive/galaxy_zoo/Train_images/Train_images/Cigar-shaped smooth/932331.jpg\n",
            "/content/drive/MyDrive/galaxy_zoo/Train_images/Train_images/Cigar-shaped smooth/276804.jpg\n",
            "/content/drive/MyDrive/galaxy_zoo/Train_images/Train_images/Cigar-shaped smooth/582339.jpg\n"
          ]
        }
      ]
    },
    {
      "cell_type": "code",
      "source": [
        "# preprocess and pipeline\n",
        "\n",
        "def grayscale_preprocessing(img):\n",
        "  if np.max(img)>1:\n",
        "    img = img.astype(np.float32)/255.0\n",
        "  im_gray = np.mean(img, axis=2)\n",
        "  return im_gray\n",
        "\n",
        "def bilateral_preprocessing(img, ksize, sigmX, sigmY):\n",
        "  bilateral_filtered_image = cv2.bilateralFilter(img, ksize, sigmX, sigmY)\n",
        "  return bilateral_filtered_image\n",
        "\n",
        "def high_pass_preprocessing(img, ksize, sig):\n",
        "  low_pass = cv2.GaussianBlur(img, ksize, 0)\n",
        "  high_pass = img - low_pass\n",
        "  return high_pass\n",
        "\n",
        "def sobel_preprocessing(img, ksize):\n",
        "  sobelx = cv2.Sobel(img, cv2.CV_32F, 1, 0, ksize=ksize) # Find x and y gradients\n",
        "  sobely = cv2.Sobel(img, cv2.CV_32F, 0, 1, ksize=ksize)\n",
        "  magnitude = np.sqrt(sobelx**2.0 + sobely**2.0)\n",
        "  magnitude = magnitude / np.max(magnitude) # normalize\n",
        "  return magnitude\n",
        "\n",
        "def gaussian_blur_preprocessing(img, ksize, sigma):\n",
        "  blurred_im = cv2.GaussianBlur(img, ksize, sigmaX=sigma[0], sigmaY=sigma[1])\n",
        "  return blurred_im\n",
        "\n",
        "def canny_filter(img, high_threshold, low_threshold):\n",
        "  # ensure the image is normalized to the range [0, 1]\n",
        "  img = img / np.max(img)\n",
        "  # scale the image to the range [0, 255] and convert to 8-bit\n",
        "  img_8u = np.uint8(img * 255)\n",
        "  # threshold the image and get the interesting points\n",
        "  # The high threshold is used to identify the strong edges. Pixels with intensity gradients above this threshold are marked as strong edge pixels.\n",
        "  # The low threshold is used to identify the non-edges. Pixels with intensity gradients below this threshold are suppressed.\n",
        "  # By setting the high threshold too low, many pixels might be considered as strong edges, leading to a noisy edge image. Similarly, if the low threshold is set too high, you might miss genuine weak edges that should contribute to the final edge image.\n",
        "\n",
        "  im_threshold = cv2.Canny(image=img_8u, threshold1=low_threshold, threshold2=high_threshold) # Canny Edge\n",
        "  im_threshold = im_threshold / np.max(im_threshold) # normalize\n",
        "  return im_threshold\n",
        "\n",
        "def crop_center(img, cropx, cropy):\n",
        "    y, x = img.shape\n",
        "    startx = x // 2 - (cropx // 2)\n",
        "    starty = y // 2 - (cropy // 2)\n",
        "    return img[starty:starty+cropy, startx:startx+cropx]\n",
        "\n",
        "\n",
        "def histogram_clipping(img, threshold_value):\n",
        "  clipped_image = img.copy()\n",
        "  # before\n",
        "  # draw_histogram_gray(clipped_image)\n",
        "  clipped_image[img < threshold_value/255.0] = 0\n",
        "  # Normalize the clipped_image to 0-255 for proper histogram visualization\n",
        "  normalized_clipped_image = cv2.normalize(clipped_image, None, alpha=0, beta=255,\n",
        "                                             norm_type=cv2.NORM_MINMAX, dtype=cv2.CV_8UC1)\n",
        "  # draw_histogram_gray(clipped_image)\n",
        "  return normalized_clipped_image\n",
        "\n",
        "def hog(img_gray, orientations=9, pixels_per_cell=(8, 8), cells_per_block=(3, 3)):\n",
        "  block_norm = 'L1'  # Block normalization method\n",
        "  # orientations = 9   # Number of orientation bins\n",
        "  # pixels_per_cell = (8, 8)  # Size of the cell\n",
        "  # cells_per_block = (3, 3)  # Size of the block\n",
        "\n",
        "  # Compute the HOG features\n",
        "  hog_features, hog_image = feature.hog(img_gray,\n",
        "                                        orientations=orientations,\n",
        "                                        pixels_per_cell=pixels_per_cell,\n",
        "                                        cells_per_block=cells_per_block,\n",
        "                                        block_norm=block_norm,\n",
        "                                        visualize=True)\n",
        "  return hog_features, hog_image\n",
        "\n",
        "def preprocess_1(df):\n",
        "  image_dir = df['path'][1:] # ignore index\n",
        "  preprocessed_list = []\n",
        "\n",
        "  for i, image_path in enumerate(image_dir):\n",
        "    im = np.array(Image.open(image_path))\n",
        "\n",
        "    im_gray = grayscale_preprocessing(im)\n",
        "    img_histogram_clipping = histogram_clipping(im_gray, 30)\n",
        "    im_blurred = gaussian_blur_preprocessing(img_histogram_clipping, (9, 9), (10, 10))\n",
        "    im_bilateral = bilateral_preprocessing(im_blurred, 5, 30, 30)\n",
        "    im_sobel = sobel_preprocessing(im_bilateral, 31)\n",
        "    im_canny = canny_filter(im_blurred, 70, 0)\n",
        "    im_cropped = crop_center(im_canny, 252, 252)\n",
        "    im_flattened = im_cropped.flatten()\n",
        "    preprocessed_list.append(im_flattened)\n",
        "\n",
        "  df['features'] = preprocessed_list\n",
        "  return df['features_1']\n",
        "\n",
        "def preprocess_2(df):\n",
        "  image_dir = df['path'][1:]\n",
        "  preprocessed_list = []\n",
        "\n",
        "  for i, image_path in enumerate(image_dir):\n",
        "    im = np.array(Image.open(image_path))\n",
        "\n",
        "    im_gray = grayscale_preprocessing(im)\n",
        "    img_histogram_clipping = histogram_clipping(im_gray, 30)\n",
        "    im_blurred = gaussian_blur_preprocessing(img_histogram_clipping, (9, 9), (10, 10))\n",
        "    im_bilateral = bilateral_preprocessing(im_blurred, 5, 30, 30)\n",
        "    im_cropped = crop_center(im_bilateral, 240, 240)\n",
        "    hog_feature, hog_image = hog(im_cropped) #(63504,)\n",
        "    # im_flattened = hog_feature.flatten()\n",
        "    preprocessed_list.append(hog_feature)\n",
        "\n",
        "  df['features'] = preprocessed_list\n",
        "  return df['features_2']"
      ],
      "metadata": {
        "id": "yT4ZUpP0bc-k"
      },
      "execution_count": 24,
      "outputs": []
    },
    {
      "cell_type": "code",
      "source": [
        "for image_path in df_train['path'][:2]:\n",
        "  print(image_path)"
      ],
      "metadata": {
        "colab": {
          "base_uri": "https://localhost:8080/"
        },
        "id": "1Nc9DTrIfQIb",
        "outputId": "739a61d5-eeaf-4ca8-ab05-7f3ba66ba27c"
      },
      "execution_count": 22,
      "outputs": [
        {
          "output_type": "stream",
          "name": "stdout",
          "text": [
            "path\n",
            "/content/drive/MyDrive/galaxy_zoo/Train_images/Train_images/Cigar-shaped smooth/217327.jpg\n"
          ]
        }
      ]
    },
    {
      "cell_type": "code",
      "source": [
        "df_preprocessed_1 = preprocess_1(df_train)\n",
        "df_preprocessed_2 = preprocess_2(df_train)\n",
        "df_train_preprocessed = pd.concat([df_train, df_preprocessed_1, df_preprocessed_2], ignore_index=True)"
      ],
      "metadata": {
        "colab": {
          "base_uri": "https://localhost:8080/",
          "height": 356
        },
        "id": "iJNLozLicJu0",
        "outputId": "316495a0-36ea-45ef-ac37-dc5b3b68443b"
      },
      "execution_count": 25,
      "outputs": [
        {
          "output_type": "stream",
          "name": "stderr",
          "text": [
            "<ipython-input-24-78e6f43b8900>:40: RuntimeWarning: invalid value encountered in divide\n",
            "  im_threshold = im_threshold / np.max(im_threshold) # normalize\n"
          ]
        },
        {
          "output_type": "error",
          "ename": "KeyboardInterrupt",
          "evalue": "",
          "traceback": [
            "\u001b[0;31m---------------------------------------------------------------------------\u001b[0m",
            "\u001b[0;31mKeyboardInterrupt\u001b[0m                         Traceback (most recent call last)",
            "\u001b[0;32m<ipython-input-25-876955014bb7>\u001b[0m in \u001b[0;36m<cell line: 1>\u001b[0;34m()\u001b[0m\n\u001b[0;32m----> 1\u001b[0;31m \u001b[0mdf_preprocessed_1\u001b[0m \u001b[0;34m=\u001b[0m \u001b[0mpreprocess_1\u001b[0m\u001b[0;34m(\u001b[0m\u001b[0mdf_train\u001b[0m\u001b[0;34m)\u001b[0m\u001b[0;34m\u001b[0m\u001b[0;34m\u001b[0m\u001b[0m\n\u001b[0m\u001b[1;32m      2\u001b[0m \u001b[0mdf_preprocessed_2\u001b[0m \u001b[0;34m=\u001b[0m \u001b[0mpreprocess_2\u001b[0m\u001b[0;34m(\u001b[0m\u001b[0mdf_train\u001b[0m\u001b[0;34m)\u001b[0m\u001b[0;34m\u001b[0m\u001b[0;34m\u001b[0m\u001b[0m\n\u001b[1;32m      3\u001b[0m \u001b[0mdf_train_preprocessed\u001b[0m \u001b[0;34m=\u001b[0m \u001b[0mpd\u001b[0m\u001b[0;34m.\u001b[0m\u001b[0mconcat\u001b[0m\u001b[0;34m(\u001b[0m\u001b[0;34m[\u001b[0m\u001b[0mdf_train\u001b[0m\u001b[0;34m,\u001b[0m \u001b[0mdf_preprocessed_1\u001b[0m\u001b[0;34m,\u001b[0m \u001b[0mdf_preprocessed_2\u001b[0m\u001b[0;34m]\u001b[0m\u001b[0;34m,\u001b[0m \u001b[0mignore_index\u001b[0m\u001b[0;34m=\u001b[0m\u001b[0;32mTrue\u001b[0m\u001b[0;34m)\u001b[0m\u001b[0;34m\u001b[0m\u001b[0;34m\u001b[0m\u001b[0m\n",
            "\u001b[0;32m<ipython-input-24-78e6f43b8900>\u001b[0m in \u001b[0;36mpreprocess_1\u001b[0;34m(df)\u001b[0m\n\u001b[1;32m     81\u001b[0m     \u001b[0mim\u001b[0m \u001b[0;34m=\u001b[0m \u001b[0mnp\u001b[0m\u001b[0;34m.\u001b[0m\u001b[0marray\u001b[0m\u001b[0;34m(\u001b[0m\u001b[0mImage\u001b[0m\u001b[0;34m.\u001b[0m\u001b[0mopen\u001b[0m\u001b[0;34m(\u001b[0m\u001b[0mimage_path\u001b[0m\u001b[0;34m)\u001b[0m\u001b[0;34m)\u001b[0m\u001b[0;34m\u001b[0m\u001b[0;34m\u001b[0m\u001b[0m\n\u001b[1;32m     82\u001b[0m \u001b[0;34m\u001b[0m\u001b[0m\n\u001b[0;32m---> 83\u001b[0;31m     \u001b[0mim_gray\u001b[0m \u001b[0;34m=\u001b[0m \u001b[0mgrayscale_preprocessing\u001b[0m\u001b[0;34m(\u001b[0m\u001b[0mim\u001b[0m\u001b[0;34m)\u001b[0m\u001b[0;34m\u001b[0m\u001b[0;34m\u001b[0m\u001b[0m\n\u001b[0m\u001b[1;32m     84\u001b[0m     \u001b[0mimg_histogram_clipping\u001b[0m \u001b[0;34m=\u001b[0m \u001b[0mhistogram_clipping\u001b[0m\u001b[0;34m(\u001b[0m\u001b[0mim_gray\u001b[0m\u001b[0;34m,\u001b[0m \u001b[0;36m30\u001b[0m\u001b[0;34m)\u001b[0m\u001b[0;34m\u001b[0m\u001b[0;34m\u001b[0m\u001b[0m\n\u001b[1;32m     85\u001b[0m     \u001b[0mim_blurred\u001b[0m \u001b[0;34m=\u001b[0m \u001b[0mgaussian_blur_preprocessing\u001b[0m\u001b[0;34m(\u001b[0m\u001b[0mimg_histogram_clipping\u001b[0m\u001b[0;34m,\u001b[0m \u001b[0;34m(\u001b[0m\u001b[0;36m9\u001b[0m\u001b[0;34m,\u001b[0m \u001b[0;36m9\u001b[0m\u001b[0;34m)\u001b[0m\u001b[0;34m,\u001b[0m \u001b[0;34m(\u001b[0m\u001b[0;36m10\u001b[0m\u001b[0;34m,\u001b[0m \u001b[0;36m10\u001b[0m\u001b[0;34m)\u001b[0m\u001b[0;34m)\u001b[0m\u001b[0;34m\u001b[0m\u001b[0;34m\u001b[0m\u001b[0m\n",
            "\u001b[0;32m<ipython-input-24-78e6f43b8900>\u001b[0m in \u001b[0;36mgrayscale_preprocessing\u001b[0;34m(img)\u001b[0m\n\u001b[1;32m      4\u001b[0m   \u001b[0;32mif\u001b[0m \u001b[0mnp\u001b[0m\u001b[0;34m.\u001b[0m\u001b[0mmax\u001b[0m\u001b[0;34m(\u001b[0m\u001b[0mimg\u001b[0m\u001b[0;34m)\u001b[0m\u001b[0;34m>\u001b[0m\u001b[0;36m1\u001b[0m\u001b[0;34m:\u001b[0m\u001b[0;34m\u001b[0m\u001b[0;34m\u001b[0m\u001b[0m\n\u001b[1;32m      5\u001b[0m     \u001b[0mimg\u001b[0m \u001b[0;34m=\u001b[0m \u001b[0mimg\u001b[0m\u001b[0;34m.\u001b[0m\u001b[0mastype\u001b[0m\u001b[0;34m(\u001b[0m\u001b[0mnp\u001b[0m\u001b[0;34m.\u001b[0m\u001b[0mfloat32\u001b[0m\u001b[0;34m)\u001b[0m\u001b[0;34m/\u001b[0m\u001b[0;36m255.0\u001b[0m\u001b[0;34m\u001b[0m\u001b[0;34m\u001b[0m\u001b[0m\n\u001b[0;32m----> 6\u001b[0;31m   \u001b[0mim_gray\u001b[0m \u001b[0;34m=\u001b[0m \u001b[0mnp\u001b[0m\u001b[0;34m.\u001b[0m\u001b[0mmean\u001b[0m\u001b[0;34m(\u001b[0m\u001b[0mimg\u001b[0m\u001b[0;34m,\u001b[0m \u001b[0maxis\u001b[0m\u001b[0;34m=\u001b[0m\u001b[0;36m2\u001b[0m\u001b[0;34m)\u001b[0m\u001b[0;34m\u001b[0m\u001b[0;34m\u001b[0m\u001b[0m\n\u001b[0m\u001b[1;32m      7\u001b[0m   \u001b[0;32mreturn\u001b[0m \u001b[0mim_gray\u001b[0m\u001b[0;34m\u001b[0m\u001b[0;34m\u001b[0m\u001b[0m\n\u001b[1;32m      8\u001b[0m \u001b[0;34m\u001b[0m\u001b[0m\n",
            "\u001b[0;32m/usr/local/lib/python3.10/dist-packages/numpy/core/fromnumeric.py\u001b[0m in \u001b[0;36mmean\u001b[0;34m(a, axis, dtype, out, keepdims, where)\u001b[0m\n\u001b[1;32m   3502\u001b[0m             \u001b[0;32mreturn\u001b[0m \u001b[0mmean\u001b[0m\u001b[0;34m(\u001b[0m\u001b[0maxis\u001b[0m\u001b[0;34m=\u001b[0m\u001b[0maxis\u001b[0m\u001b[0;34m,\u001b[0m \u001b[0mdtype\u001b[0m\u001b[0;34m=\u001b[0m\u001b[0mdtype\u001b[0m\u001b[0;34m,\u001b[0m \u001b[0mout\u001b[0m\u001b[0;34m=\u001b[0m\u001b[0mout\u001b[0m\u001b[0;34m,\u001b[0m \u001b[0;34m**\u001b[0m\u001b[0mkwargs\u001b[0m\u001b[0;34m)\u001b[0m\u001b[0;34m\u001b[0m\u001b[0;34m\u001b[0m\u001b[0m\n\u001b[1;32m   3503\u001b[0m \u001b[0;34m\u001b[0m\u001b[0m\n\u001b[0;32m-> 3504\u001b[0;31m     return _methods._mean(a, axis=axis, dtype=dtype,\n\u001b[0m\u001b[1;32m   3505\u001b[0m                           out=out, **kwargs)\n\u001b[1;32m   3506\u001b[0m \u001b[0;34m\u001b[0m\u001b[0m\n",
            "\u001b[0;32m/usr/local/lib/python3.10/dist-packages/numpy/core/_methods.py\u001b[0m in \u001b[0;36m_mean\u001b[0;34m(a, axis, dtype, out, keepdims, where)\u001b[0m\n\u001b[1;32m    116\u001b[0m             \u001b[0mis_float16_result\u001b[0m \u001b[0;34m=\u001b[0m \u001b[0;32mTrue\u001b[0m\u001b[0;34m\u001b[0m\u001b[0;34m\u001b[0m\u001b[0m\n\u001b[1;32m    117\u001b[0m \u001b[0;34m\u001b[0m\u001b[0m\n\u001b[0;32m--> 118\u001b[0;31m     \u001b[0mret\u001b[0m \u001b[0;34m=\u001b[0m \u001b[0mumr_sum\u001b[0m\u001b[0;34m(\u001b[0m\u001b[0marr\u001b[0m\u001b[0;34m,\u001b[0m \u001b[0maxis\u001b[0m\u001b[0;34m,\u001b[0m \u001b[0mdtype\u001b[0m\u001b[0;34m,\u001b[0m \u001b[0mout\u001b[0m\u001b[0;34m,\u001b[0m \u001b[0mkeepdims\u001b[0m\u001b[0;34m,\u001b[0m \u001b[0mwhere\u001b[0m\u001b[0;34m=\u001b[0m\u001b[0mwhere\u001b[0m\u001b[0;34m)\u001b[0m\u001b[0;34m\u001b[0m\u001b[0;34m\u001b[0m\u001b[0m\n\u001b[0m\u001b[1;32m    119\u001b[0m     \u001b[0;32mif\u001b[0m \u001b[0misinstance\u001b[0m\u001b[0;34m(\u001b[0m\u001b[0mret\u001b[0m\u001b[0;34m,\u001b[0m \u001b[0mmu\u001b[0m\u001b[0;34m.\u001b[0m\u001b[0mndarray\u001b[0m\u001b[0;34m)\u001b[0m\u001b[0;34m:\u001b[0m\u001b[0;34m\u001b[0m\u001b[0;34m\u001b[0m\u001b[0m\n\u001b[1;32m    120\u001b[0m         \u001b[0;32mwith\u001b[0m \u001b[0m_no_nep50_warning\u001b[0m\u001b[0;34m(\u001b[0m\u001b[0;34m)\u001b[0m\u001b[0;34m:\u001b[0m\u001b[0;34m\u001b[0m\u001b[0;34m\u001b[0m\u001b[0m\n",
            "\u001b[0;31mKeyboardInterrupt\u001b[0m: "
          ]
        }
      ]
    },
    {
      "cell_type": "code",
      "source": [
        "df_train_preprocessed.to_csv('./df_train_processed', index=False)\n",
        "df_preprocessed_1.to_csv('./df_preprocessed_1', index=False)\n",
        "df_preprocessed_2.to_csv('./df_preprocessed_2', index=False)"
      ],
      "metadata": {
        "id": "B3Lis9T8hjrP"
      },
      "execution_count": null,
      "outputs": []
    },
    {
      "cell_type": "code",
      "source": [
        "pd_feature_matrix_pipeline_1_2 = pd.concate([df_preprocessed_1, df_preprocessed_2], axis=1)\n",
        "feature_matrix_pipeline_1_2 = pd_feature_matrix_pipeline_1_2.values #covert to numpy array\n",
        "\n",
        "feature_matrix_pipeline_1_2.shape"
      ],
      "metadata": {
        "id": "3bX3i73Nglbw"
      },
      "execution_count": null,
      "outputs": []
    },
    {
      "cell_type": "code",
      "source": [
        "#pick up top 300 features by PCA\n",
        "\n",
        "from sklearn.decomposition import PCA\n",
        "top_components = 300\n",
        "pca = PCA(n_components=500)\n",
        "pca.fit(feature_matrix_pipeline_1_2)\n",
        "\n",
        "plt.figure(figsize=(8, 4))\n",
        "plt.plot(np.cumsum(pca.explained_variance_ratio_))\n",
        "plt.xlabel('Number of PCA components')\n",
        "plt.ylabel('Cumulative explained variance')\n",
        "plt.title('Explained Variance vs Number of PCA Components')\n",
        "plt.grid(True)\n",
        "plt.show()\n",
        "\n",
        "# Extract the top 300 components\n",
        "top_components_matrix = pca.components_[:top_components]"
      ],
      "metadata": {
        "id": "20RAsjFAgUiS"
      },
      "execution_count": null,
      "outputs": []
    },
    {
      "cell_type": "code",
      "source": [
        "df_features = pd.DataFrame(top_components_matrix, columns=[f'pca_{i}' for i in range(top_components_matrix.shape[1])])\n",
        "df_train_processed_pca = pd.concat([df_train, df_features], ignore_index=True)\n",
        "df_train_processed_pca.to_csv('./df_train_processed_pca')"
      ],
      "metadata": {
        "id": "dfImAeEBi_hr"
      },
      "execution_count": null,
      "outputs": []
    },
    {
      "cell_type": "markdown",
      "source": [
        "Classifier"
      ],
      "metadata": {
        "id": "-IivGpCtg1_x"
      }
    },
    {
      "cell_type": "code",
      "source": [],
      "metadata": {
        "id": "tXYHtzrWg3Xv"
      },
      "execution_count": null,
      "outputs": []
    }
  ]
}